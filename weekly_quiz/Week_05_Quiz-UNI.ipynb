{
 "cells": [
  {
   "cell_type": "markdown",
   "metadata": {},
   "source": [
    "# Week 5 Quiz\n",
    "\n",
    "## Name - UNI\n",
    "\n",
    "### Due Sunday Oct 18 7pm ET"
   ]
  },
  {
   "cell_type": "code",
   "execution_count": null,
   "metadata": {},
   "outputs": [],
   "source": [
    "import pandas as pd\n",
    "import numpy as np\n",
    "import matplotlib.pyplot as plt\n",
    "import seaborn as sns\n",
    "\n",
    "sns.set_style('darkgrid')\n",
    "%matplotlib inline"
   ]
  },
  {
   "cell_type": "code",
   "execution_count": null,
   "metadata": {},
   "outputs": [],
   "source": [
    "# Sklearn provides a set of commonly used example datasets. \n",
    "# They can be accessed through the datasets submodule.\n",
    "from sklearn import datasets\n",
    "\n",
    "# We're going to use the Linnerud dataset to practice Regression in sklearn.\n",
    "\n",
    "# The Linnerud dataset is a tiny multi-output regression dataset. It consists of three\n",
    "# excercise (data) and three physiological (target) variables collected from\n",
    "# twenty middle-aged men in a fitness club.\n",
    "linnerud = datasets.load_linnerud()\n",
    "\n",
    "# The features of the dataset contain data on 3 exercises\n",
    "# Chins - number of chinups\n",
    "# Situps - number of situps\n",
    "# Jumps - number of jumping jacks\n",
    "\n",
    "# Note that the features and target come as numpy matrices.\n",
    "# We'll first load the features into a pandas dataframe.\n",
    "df = pd.DataFrame(linnerud.data,columns=linnerud.feature_names)\n",
    "\n",
    "# We'll also add the target to our dataframe.\n",
    "# Note also that this dataset contains multiple targets.\n",
    "# We'll only consider one of them: Weight\n",
    "df['Weight'] = linnerud.target[:,linnerud.target_names.index('Weight')]\n",
    "\n",
    "# For more information on the dataset, uncomment the print command below\n",
    "#print(linnerud.DESCR)\n",
    "\n",
    "# print the first 3 rows\n",
    "df.head(3)"
   ]
  },
  {
   "cell_type": "code",
   "execution_count": null,
   "metadata": {},
   "outputs": [],
   "source": [
    "# What is the relationship between Situps and Weight?\n",
    "\n",
    "# Plot a scatterplot and best-fit line for x=Situps vs y=Weight using seaborn sns.regplot()\n",
    "____"
   ]
  },
  {
   "cell_type": "code",
   "execution_count": null,
   "metadata": {},
   "outputs": [],
   "source": [
    "# The above plot should indicate a negative relationship between Situps and Weight\n",
    "# How much does Weight go down if Situps goes up?\n",
    "# To answer this we'll train a simple linear model.\n",
    "\n",
    "# First import LinearRegression from sklearn.inear_model\n",
    "____\n",
    "\n",
    "# Instantiate a LinearRegression object with default parameter settings\n",
    "#   and store as lr\n",
    "____\n",
    "\n",
    "# Fit lf using X = df.Situps.values.reshape(-1,1) and y = df.Weight\n",
    "# Recall that we need to use reshape because sklearn expects X to be two dimensional\n",
    "____\n",
    "\n",
    "# Using the learned parameters in coef_ and intercept_, \n",
    "#   by how much do we expect Weight to go down when Situps goes up by 1?\n",
    "# Print with a precision of 2\n",
    "\n",
    "____\n",
    "\n",
    "# Using the learned parameters in coef_ and intercept_, \n",
    "#   what should we expect weight to be when when Situps is 0?\n",
    "\n",
    "____"
   ]
  },
  {
   "cell_type": "code",
   "execution_count": null,
   "metadata": {},
   "outputs": [],
   "source": [
    "# How is Weight related to all 3 features?\n",
    "\n",
    "# Instantiate a second LinearRegression model with default parameters and store as mlr\n",
    "# Fit this model using all of the features: Chins, Situps, Jumps\n",
    "# Careful not to include Weight in X!\n",
    "# Note that here we can pass the dataframe columns directly without using .values.reshape()\n",
    "____\n",
    "\n",
    "# Print out the name and learned coefficient for each feature in the model\n",
    "# It looks like one of the features actually has a positive relationship.\n",
    "____"
   ]
  },
  {
   "cell_type": "code",
   "execution_count": null,
   "metadata": {},
   "outputs": [],
   "source": [
    "# NOT REQUIRED\n",
    "\n",
    "# For those that are interested in the extra practice, and to explore how statsmodels works\n",
    "\n",
    "# Import the statsmodels api\n",
    "____\n",
    "\n",
    "# Store the 3 features from df as X\n",
    "____\n",
    "\n",
    "# Add a constant to X (in order to learn the bias term) using sm.add_constant()\n",
    "____\n",
    "\n",
    "# Instantiate and fit an OLS model using X and df.Weight and store as model\n",
    "# Note that in OLS, the target y is the first parameter!\n",
    "____\n",
    "\n",
    "# Display the model summary\n",
    "____"
   ]
  }
 ],
 "metadata": {
  "kernelspec": {
   "display_name": "eods-f20",
   "language": "python",
   "name": "eods-f20"
  },
  "language_info": {
   "codemirror_mode": {
    "name": "ipython",
    "version": 3
   },
   "file_extension": ".py",
   "mimetype": "text/x-python",
   "name": "python",
   "nbconvert_exporter": "python",
   "pygments_lexer": "ipython3",
   "version": "3.8.5"
  }
 },
 "nbformat": 4,
 "nbformat_minor": 4
}
