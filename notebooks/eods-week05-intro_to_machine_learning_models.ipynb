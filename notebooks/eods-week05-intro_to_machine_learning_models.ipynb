{
 "cells": [
  {
   "cell_type": "markdown",
   "metadata": {
    "slideshow": {
     "slide_type": "slide"
    }
   },
   "source": [
    "## <center>Elements Of Data Science - F2020</center>\n",
    "# <center>Week 5: Intro to Machine Learning Models<center>\n",
    "### <center>10/12/2020</center>"
   ]
  },
  {
   "cell_type": "code",
   "execution_count": 1,
   "metadata": {
    "slideshow": {
     "slide_type": "skip"
    }
   },
   "outputs": [],
   "source": [
    "import numpy as np\n",
    "import pandas as pd\n",
    "import matplotlib.pyplot as plt\n",
    "import seaborn as sns\n",
    "\n",
    "sns.set_style('darkgrid')\n",
    "%matplotlib inline"
   ]
  },
  {
   "cell_type": "markdown",
   "metadata": {
    "slideshow": {
     "slide_type": "slide"
    }
   },
   "source": [
    "# TODOs\n",
    "\n",
    "- Readings:\n",
    " - Recommended: https://scikit-learn.org/stable/supervised_learning.html\n",
    " - Reference: PML Chapter Chap 3\n",
    "    \n",
    "- Answer and submit Quiz 5\n",
    "\n",
    "- HW1, Due Thurs Oct 22nd, 11:59pm ET\n",
    "\n"
   ]
  },
  {
   "cell_type": "markdown",
   "metadata": {
    "slideshow": {
     "slide_type": "slide"
    }
   },
   "source": [
    "# Today\n",
    "\n",
    "- Multi-Armed Bandit (previous week's slides)\n",
    "- Intro to Machine Learning Models\n",
    " - Various types of ML\n",
    " - Linear models"
   ]
  },
  {
   "cell_type": "markdown",
   "metadata": {
    "slideshow": {
     "slide_type": "slide"
    }
   },
   "source": [
    "<br>\n",
    "<br>\n",
    "\n",
    "# <center>Questions?</center>\n",
    "<br>\n",
    "<br>"
   ]
  },
  {
   "cell_type": "markdown",
   "metadata": {
    "slideshow": {
     "slide_type": "slide"
    }
   },
   "source": [
    "# Modeling and ML\n",
    "\n",
    "- What is a Model?\n",
    " - Specification of a mathematical (or probabilistic) relationship between different variables.\n",
    " \n",
    "\n",
    "- What is Machine Learning?\n",
    " - Creating and using models that are learned from data."
   ]
  },
  {
   "cell_type": "markdown",
   "metadata": {
    "slideshow": {
     "slide_type": "slide"
    }
   },
   "source": [
    "# Questions for  Models"
   ]
  },
  {
   "cell_type": "code",
   "execution_count": 2,
   "metadata": {
    "slideshow": {
     "slide_type": "fragment"
    }
   },
   "outputs": [
    {
     "data": {
      "text/html": [
       "<div>\n",
       "<style scoped>\n",
       "    .dataframe tbody tr th:only-of-type {\n",
       "        vertical-align: middle;\n",
       "    }\n",
       "\n",
       "    .dataframe tbody tr th {\n",
       "        vertical-align: top;\n",
       "    }\n",
       "\n",
       "    .dataframe thead th {\n",
       "        text-align: right;\n",
       "    }\n",
       "</style>\n",
       "<table border=\"1\" class=\"dataframe\">\n",
       "  <thead>\n",
       "    <tr style=\"text-align: right;\">\n",
       "      <th></th>\n",
       "      <th>alcohol</th>\n",
       "      <th>ash</th>\n",
       "      <th>hue</th>\n",
       "      <th>proline</th>\n",
       "      <th>class</th>\n",
       "    </tr>\n",
       "  </thead>\n",
       "  <tbody>\n",
       "    <tr>\n",
       "      <th>161</th>\n",
       "      <td>13.69</td>\n",
       "      <td>2.54</td>\n",
       "      <td>0.96</td>\n",
       "      <td>680.0</td>\n",
       "      <td>2</td>\n",
       "    </tr>\n",
       "    <tr>\n",
       "      <th>117</th>\n",
       "      <td>12.42</td>\n",
       "      <td>2.19</td>\n",
       "      <td>1.06</td>\n",
       "      <td>345.0</td>\n",
       "      <td>1</td>\n",
       "    </tr>\n",
       "    <tr>\n",
       "      <th>19</th>\n",
       "      <td>13.64</td>\n",
       "      <td>2.56</td>\n",
       "      <td>0.96</td>\n",
       "      <td>845.0</td>\n",
       "      <td>0</td>\n",
       "    </tr>\n",
       "    <tr>\n",
       "      <th>69</th>\n",
       "      <td>12.21</td>\n",
       "      <td>1.75</td>\n",
       "      <td>1.28</td>\n",
       "      <td>718.0</td>\n",
       "      <td>1</td>\n",
       "    </tr>\n",
       "    <tr>\n",
       "      <th>53</th>\n",
       "      <td>13.77</td>\n",
       "      <td>2.68</td>\n",
       "      <td>1.13</td>\n",
       "      <td>1375.0</td>\n",
       "      <td>0</td>\n",
       "    </tr>\n",
       "  </tbody>\n",
       "</table>\n",
       "</div>"
      ],
      "text/plain": [
       "     alcohol   ash   hue  proline  class\n",
       "161    13.69  2.54  0.96    680.0      2\n",
       "117    12.42  2.19  1.06    345.0      1\n",
       "19     13.64  2.56  0.96    845.0      0\n",
       "69     12.21  1.75  1.28    718.0      1\n",
       "53     13.77  2.68  1.13   1375.0      0"
      ]
     },
     "execution_count": 2,
     "metadata": {},
     "output_type": "execute_result"
    }
   ],
   "source": [
    "df_wine = pd.read_csv('../data/wine_dataset.csv',usecols=['alcohol','ash','proline','hue','class'])\n",
    "df_wine.sample(5,random_state=1)"
   ]
  },
  {
   "cell_type": "markdown",
   "metadata": {
    "slideshow": {
     "slide_type": "fragment"
    }
   },
   "source": [
    "- Can we predict label \"class\" from the other columns? (Classification)\n",
    "- Can we predict target \"hue\" from the other columns? (Regression)\n",
    "- What are the important features when predicting \"hue\"? (Feature Selection)\n",
    "- Can a model tell us about how the features and target interact? (Interpretation)\n",
    "- Do the features group together at all? (Clustering)"
   ]
  },
  {
   "cell_type": "markdown",
   "metadata": {
    "slideshow": {
     "slide_type": "slide"
    }
   },
   "source": [
    "# Terms in ML"
   ]
  },
  {
   "cell_type": "code",
   "execution_count": 3,
   "metadata": {
    "slideshow": {
     "slide_type": "fragment"
    }
   },
   "outputs": [
    {
     "data": {
      "text/html": [
       "<div>\n",
       "<style scoped>\n",
       "    .dataframe tbody tr th:only-of-type {\n",
       "        vertical-align: middle;\n",
       "    }\n",
       "\n",
       "    .dataframe tbody tr th {\n",
       "        vertical-align: top;\n",
       "    }\n",
       "\n",
       "    .dataframe thead th {\n",
       "        text-align: right;\n",
       "    }\n",
       "</style>\n",
       "<table border=\"1\" class=\"dataframe\">\n",
       "  <thead>\n",
       "    <tr style=\"text-align: right;\">\n",
       "      <th></th>\n",
       "      <th>alcohol</th>\n",
       "      <th>ash</th>\n",
       "      <th>hue</th>\n",
       "      <th>proline</th>\n",
       "      <th>class</th>\n",
       "    </tr>\n",
       "  </thead>\n",
       "  <tbody>\n",
       "    <tr>\n",
       "      <th>161</th>\n",
       "      <td>13.69</td>\n",
       "      <td>2.54</td>\n",
       "      <td>0.96</td>\n",
       "      <td>680.0</td>\n",
       "      <td>2</td>\n",
       "    </tr>\n",
       "    <tr>\n",
       "      <th>117</th>\n",
       "      <td>12.42</td>\n",
       "      <td>2.19</td>\n",
       "      <td>1.06</td>\n",
       "      <td>345.0</td>\n",
       "      <td>1</td>\n",
       "    </tr>\n",
       "    <tr>\n",
       "      <th>19</th>\n",
       "      <td>13.64</td>\n",
       "      <td>2.56</td>\n",
       "      <td>0.96</td>\n",
       "      <td>845.0</td>\n",
       "      <td>0</td>\n",
       "    </tr>\n",
       "    <tr>\n",
       "      <th>69</th>\n",
       "      <td>12.21</td>\n",
       "      <td>1.75</td>\n",
       "      <td>1.28</td>\n",
       "      <td>718.0</td>\n",
       "      <td>1</td>\n",
       "    </tr>\n",
       "    <tr>\n",
       "      <th>53</th>\n",
       "      <td>13.77</td>\n",
       "      <td>2.68</td>\n",
       "      <td>1.13</td>\n",
       "      <td>1375.0</td>\n",
       "      <td>0</td>\n",
       "    </tr>\n",
       "  </tbody>\n",
       "</table>\n",
       "</div>"
      ],
      "text/plain": [
       "     alcohol   ash   hue  proline  class\n",
       "161    13.69  2.54  0.96    680.0      2\n",
       "117    12.42  2.19  1.06    345.0      1\n",
       "19     13.64  2.56  0.96    845.0      0\n",
       "69     12.21  1.75  1.28    718.0      1\n",
       "53     13.77  2.68  1.13   1375.0      0"
      ]
     },
     "execution_count": 3,
     "metadata": {},
     "output_type": "execute_result"
    }
   ],
   "source": [
    "df_wine.sample(5,random_state=1)"
   ]
  },
  {
   "cell_type": "markdown",
   "metadata": {
    "slideshow": {
     "slide_type": "fragment"
    }
   },
   "source": [
    "- $X$, features, attributes, independent/exogenous/explanatory variables\n",
    " - Ex: alcohol, trip_distance, company_industry\n",
    "\n",
    "\n",
    "- $y$, target, label, outcome, dependent/endogenous/response variables\n",
    " - Ex: class, hue, tip_amount, stock_price\n",
    "\n",
    "\n",
    "- $f(X)\\rightarrow y$, Model that maps features $X$ to target $y$\n"
   ]
  },
  {
   "cell_type": "markdown",
   "metadata": {
    "slideshow": {
     "slide_type": "slide"
    }
   },
   "source": [
    "# Variations of ML Tasks\n",
    "<br>"
   ]
  },
  {
   "cell_type": "markdown",
   "metadata": {
    "slideshow": {
     "slide_type": "fragment"
    }
   },
   "source": [
    "- Supervised vs Unsupervised\n",
    " - is there a target/label?\n",
    "   "
   ]
  },
  {
   "cell_type": "markdown",
   "metadata": {
    "slideshow": {
     "slide_type": "fragment"
    }
   },
   "source": [
    "- Regression vs Classification\n",
    " - is the target numeric or categorical?\n",
    "   "
   ]
  },
  {
   "cell_type": "markdown",
   "metadata": {
    "slideshow": {
     "slide_type": "fragment"
    }
   },
   "source": [
    "- Interpretation vs Prediction\n",
    " - generate predictions or understand interactions?"
   ]
  },
  {
   "cell_type": "markdown",
   "metadata": {
    "slideshow": {
     "slide_type": "fragment"
    }
   },
   "source": [
    "- Model Family\n",
    " - Linear, Tree, Distance, Probability, Neural Net, Ensemble"
   ]
  },
  {
   "cell_type": "markdown",
   "metadata": {
    "slideshow": {
     "slide_type": "slide"
    }
   },
   "source": [
    "# Supervised vs Unsupervised vs Reinforcement Learning\n",
    "\n",
    "Is there a target, $y$?\n",
    "\n",
    "- Yes:\n",
    " - **Supervised Learning:** Data consists of $(X,y)$ pairs\n",
    " - Classification, Regression\n",
    " - Ex: What is the relationship between length of ride and tip amount?\n",
    "\n",
    "- No:\n",
    " - **Unsupervised Learning:** Data consists only of $(X)$\n",
    " - Clustering, Topic Modeling, etc.\n",
    " - Ex: Are there any clusters in length of ride?\n",
    "\n",
    "- Eventually:\n",
    " - **Reinforcement Learning**\n",
    " - After a series of predictions (path) get a reward from a reward function\n",
    " - Ex. Poker player"
   ]
  },
  {
   "cell_type": "markdown",
   "metadata": {
    "slideshow": {
     "slide_type": "slide"
    }
   },
   "source": [
    "# Other Learning Paradigms\n",
    "<br>"
   ]
  },
  {
   "cell_type": "markdown",
   "metadata": {
    "slideshow": {
     "slide_type": "fragment"
    }
   },
   "source": [
    "- Do we have a mix of labeled and unlabeled?\n",
    " - **Semi-Supervised Learning**\n",
    " - Can we use structure of unlabeled data along with labeled?"
   ]
  },
  {
   "cell_type": "markdown",
   "metadata": {
    "slideshow": {
     "slide_type": "fragment"
    }
   },
   "source": [
    "- Will we continue getting new data?\n",
    " - **Online Learning**\n",
    " - Is there an oracle (ground truth) we can consult?\n",
    " - Can we select which points to make predictions on?"
   ]
  },
  {
   "cell_type": "markdown",
   "metadata": {
    "slideshow": {
     "slide_type": "slide"
    }
   },
   "source": [
    "# Supervised Learning: Regression vs Classification\n",
    "<br>\n",
    "\n",
    "- **Regression** -> predict a numeric value\n",
    " - Ex: tip_amount, stock_price, wine_hue\n",
    "<br>\n",
    "\n",
    "\n",
    "- **Classification** -> predict a discrete class/category\n",
    " - Ex: class of wine, face/not face, object labels in image\n",
    "<br>\n",
    "\n",
    "\n",
    "- can convert a regression problem into classification with binning/thresholding\n",
    "<br>\n",
    "<br>\n",
    "<div align=\"center\">\n",
    "    <table><tr>\n",
    "        <td><img src=\"images/regression.png\" width=\"350px\"></td>\n",
    "        <td><img src=\"images/classification.png\" width=\"350px\"></td>\n",
    "        </tr></table></div>\n",
    "From PML"
   ]
  },
  {
   "cell_type": "markdown",
   "metadata": {
    "slideshow": {
     "slide_type": "slide"
    }
   },
   "source": [
    "# Interpretation vs Prediction\n",
    "<br>\n",
    "\n",
    "- Do we care more about understanding how XX relates to yy?\n",
    " - Ex: What happens to tip size as taxi trip length increases?\n",
    " - Ex: What is the relationship between debt and loan default?\n",
    "<br>\n",
    "\n",
    "\n",
    "- Do we care more about generating predictions?\n",
    " - Ex: For a given trip, what will the tip size likely be?\n",
    " - Ex: For a given loan, will there be a default?"
   ]
  },
  {
   "cell_type": "markdown",
   "metadata": {
    "slideshow": {
     "slide_type": "slide"
    }
   },
   "source": [
    "# Model Families for Supervised Learning\n",
    "\n",
    "- Linear\n",
    " - Simple/Multiple Linear Regression\n",
    " - Logistic Regression (for Classification)\n",
    " - Support Vector Machines\n",
    " - <font color=\"gray\">Perceptron</font>\n",
    "\n",
    "- Tree Based\n",
    " - Decision Tree\n",
    "\n",
    "- Distance Based\n",
    " - K-Nearest Neighbor"
   ]
  },
  {
   "cell_type": "markdown",
   "metadata": {
    "slideshow": {
     "slide_type": "slide"
    }
   },
   "source": [
    "# Model Families for Supervised Learning Continued\n",
    "\n",
    "\n",
    "- Probability\n",
    " - Naive Bayes?\n",
    " - <font color=\"gray\">Bayes Net</font>\n",
    "\n",
    "- Ensemble\n",
    " - Random Forest\n",
    " - Gradient Boosted Trees\n",
    " - Stacking\n",
    " \n",
    "- Network\n",
    " - Multi-layer Perceptron?\n",
    " - <font color=\"gray\">Deep Neural-Networks/font>\n",
    " - <font color=\"gray\">Convolutional Neural Nets</font>\n",
    " - <font color=\"gray\">Recurrant Neural Nets</font>"
   ]
  },
  {
   "cell_type": "markdown",
   "metadata": {
    "slideshow": {
     "slide_type": "slide"
    }
   },
   "source": [
    "# Example: Regression with a Linear Model\n",
    "<br>\n",
    "\n",
    "What is the relationship between 'proline' (an amino-acid) and 'alcohol' in wine?"
   ]
  },
  {
   "cell_type": "code",
   "execution_count": 4,
   "metadata": {
    "slideshow": {
     "slide_type": "fragment"
    }
   },
   "outputs": [
    {
     "data": {
      "image/png": "[encoded data removed]",
      "text/plain": [
       "<Figure size 864x576 with 1 Axes>"
      ]
     },
     "metadata": {
      "needs_background": "light"
     },
     "output_type": "display_data"
    }
   ],
   "source": [
    "fig,ax = plt.subplots(1,1,figsize=(12,8))\n",
    "sns.regplot(x='proline', y='alcohol', data=df_wine);"
   ]
  },
  {
   "cell_type": "markdown",
   "metadata": {
    "slideshow": {
     "slide_type": "slide"
    }
   },
   "source": [
    "# Aside: Correlation\n",
    "\n",
    "**Question:** are total_bill and tips correlated?"
   ]
  },
  {
   "cell_type": "code",
   "execution_count": 5,
   "metadata": {
    "slideshow": {
     "slide_type": "fragment"
    }
   },
   "outputs": [
    {
     "data": {
      "image/png": "[encoded data removed]",
      "text/plain": [
       "<Figure size 432x432 with 3 Axes>"
      ]
     },
     "metadata": {
      "needs_background": "light"
     },
     "output_type": "display_data"
    }
   ],
   "source": [
    "sns.jointplot(x='proline',y='alcohol',data=df_wine);"
   ]
  },
  {
   "cell_type": "markdown",
   "metadata": {
    "slideshow": {
     "slide_type": "slide"
    }
   },
   "source": [
    "# Obligitory Correlation vs. Causation\n",
    "<br>\n",
    "\n",
    "<div align=\"center\"><img src=\"https://imgs.xkcd.com/comics/correlation.png\" width=\"800px\"></div>\n",
    "<br>\n",
    "\n",
    "- Correlation does not mean causation!\n",
    "<br>\n",
    "\n",
    "- Causal Inference\n",
    " - controlled experiment\n",
    " - control for confounding variables\n"
   ]
  },
  {
   "cell_type": "markdown",
   "metadata": {
    "slideshow": {
     "slide_type": "slide"
    }
   },
   "source": [
    "# Spurious Correlation\n",
    "<br>\n",
    "\n",
    "- Also, look hard enough and you'll find correlation.\n",
    "    - See [spurious correlations](https://www.tylervigen.com/spurious-correlations) for examples\n",
    "\n",
    "\n",
    "<div align=\"center\"><img src=\"images/spurious_correlation.png\" width=\"800px\"></div>\n"
   ]
  },
  {
   "cell_type": "markdown",
   "metadata": {
    "slideshow": {
     "slide_type": "slide"
    }
   },
   "source": [
    "# Aside: Correlation\n",
    "<br>\n",
    "\n",
    "- Could calculate Pearson Correlation Coefficient\n",
    "- Assumes normally distributed data! (which is not true here)\n",
    " - [On the Effects of Non-Normality on the Distribution of the Sample Product-Moment Correlation Coefficient](https://www.jstor.org/stable/2346598?seq=1#page_scan_tab_contents]())"
   ]
  },
  {
   "cell_type": "code",
   "execution_count": 6,
   "metadata": {
    "slideshow": {
     "slide_type": "fragment"
    }
   },
   "outputs": [
    {
     "name": "stdout",
     "output_type": "stream",
     "text": [
      "r: 0.64, p: 0.00\n"
     ]
    }
   ],
   "source": [
    "from scipy.stats import pearsonr\n",
    "r,p = pearsonr(df_wine.proline,df_wine.alcohol)\n",
    "print(f'r: {r:.2f}, p: {p:.2f}')"
   ]
  },
  {
   "cell_type": "markdown",
   "metadata": {
    "slideshow": {
     "slide_type": "fragment"
    }
   },
   "source": [
    "- We know that as proline goes up alcohol goes up, but by how much?"
   ]
  },
  {
   "cell_type": "markdown",
   "metadata": {
    "slideshow": {
     "slide_type": "slide"
    }
   },
   "source": [
    "# Python Modeling Libraries\n",
    "<br>\n",
    "\n",
    "Prediction - scikit-learn\n",
    "\n",
    "<div align=\"center\"><img src=\"https://upload.wikimedia.org/wikipedia/commons/thumb/0/05/Scikit_learn_logo_small.svg/320px-Scikit_learn_logo_small.svg.png?1602365086087\" width=\"200px\"></div>\n",
    "<br>\n",
    "\n",
    "Interpretation - scikit-learn and statsmodels\n",
    "<br>\n",
    "\n",
    "<div align=\"center\"><img src=\"https://www.statsmodels.org/stable/_images/statsmodels-logo-v2-horizontal.svg\" width=\"400px\"></div>\n",
    "<br>\n",
    "\n",
    "Additional Tools - mlxtend\n",
    "\n",
    "<div align=\"center\"><img src=\"http://rasbt.github.io/mlxtend/img/logo.png\" width=\"200px\"></div>"
   ]
  },
  {
   "cell_type": "markdown",
   "metadata": {
    "slideshow": {
     "slide_type": "slide"
    }
   },
   "source": [
    "# Aside: MLxtend and conda-forge\n",
    "\n",
    "\n",
    "- **MLxtend:** (machine learning extensions) is a Python library of useful tools for the day-to-day data science tasks.\n",
    "\n",
    "<div align=\"center\"><img src=\"http://rasbt.github.io/mlxtend/img/logo.png\" width=\"200px\"></div>\n",
    "\n",
    "\n",
    "- **Conda-Forge:** A community-led collection of recipes, build infrastructure and distributions for the conda package manager.\n",
    "\n",
    "<div align=\"center\"><img src=\"https://avatars0.githubusercontent.com/u/11897326?s=200&v=4\"></div>\n",
    "\n",
    "```bash\n",
    "$ conda install --name eods-f20 --channel conda-forge mlxtend\n",
    "```\n"
   ]
  },
  {
   "cell_type": "markdown",
   "metadata": {
    "slideshow": {
     "slide_type": "slide"
    }
   },
   "source": [
    "# Simple Linear Regression"
   ]
  },
  {
   "cell_type": "markdown",
   "metadata": {
    "slideshow": {
     "slide_type": "fragment"
    }
   },
   "source": [
    "$\\Large y = w_1 x + w_0 + \\varepsilon_i$\n",
    "<br>\n",
    "\n",
    "\n",
    "- **$y$** : dependent, endogenous, response, target, label (Ex: `alcohol`)\n",
    "\n",
    "- **$x_i$** : independent, exogenous , explanatory, feature, attribute (Ex: `proline`)\n",
    "\n",
    "- **$w_1$** : coefficient, slope\n",
    "\n",
    "- **$w_0$** : bias term, intercept\n",
    "\n",
    "- **$\\varepsilon_i$** : error, hopefully small, often assumed $\\mathcal{N}(0,1)$\n",
    "\n",
    "\n",
    "- Want to find values for $w_1$ and $w_0$ that best fit the data.\n",
    "- Find a line as close to our observations as possible"
   ]
  },
  {
   "cell_type": "markdown",
   "metadata": {
    "slideshow": {
     "slide_type": "slide"
    }
   },
   "source": [
    "# Simple Linear Regression\n",
    "<br>\n",
    "\n",
    "<div align=\"center\"><img src=\"images/simple_linear_regression.png\" width=\"700px\"></div>\n",
    "\n",
    "from PML"
   ]
  },
  {
   "cell_type": "markdown",
   "metadata": {
    "slideshow": {
     "slide_type": "slide"
    }
   },
   "source": [
    "# Finding $w_1$ and $w_0$ with Ordinary Least Squares\n",
    "\n",
    "\n",
    "- **prediction**: $\\hat{y}_i = f(x_i) = w_1 x_i + w_0$\n",
    "\n",
    "\n",
    "- **error**: $error(y_i,\\hat{y}_i) = y_i - \\hat{y}_i$\n",
    "\n",
    "\n",
    "- **sum of squared errors**: $\\sum_{i=1:n}{\\left(y_i - \\hat{y}_i\\right)^2}$\n",
    "\n",
    "\n",
    "- **least squares**: make the sum of squared errors as small as possible\n",
    "\n",
    "\n",
    "- **gradient descent**: minimize error by following the gradient wrt $w_1,w_0$\n",
    "\n",
    "    - can sometime be optimized in closed form\n",
    "\n",
    "    - often done iteratively\n"
   ]
  },
  {
   "cell_type": "markdown",
   "metadata": {
    "slideshow": {
     "slide_type": "slide"
    }
   },
   "source": [
    "# Aside: Gradient Descent\n",
    "\n",
    "\n",
    "- Want to maximize or minimize something (Ex: squared error)\n",
    "<br>\n",
    "\n",
    "- **Gradient** : direction, vector of partial derivatives\n",
    "    - can get complicated, often estimated\n",
    "<br>\n",
    "<br>\n",
    "- **Gradient Descent** : take steps wrt the direction of the gradient\n",
    "    - **maximize** : in the direction of the gradient\n",
    "    - **minimize** : in the opposite direction of the gradient\n",
    "<br>\n",
    "<br>\n",
    "- **Global Maximum/Minimum** : the single best solution\n",
    "\n",
    "- **Local Maximum/Minimum** : the best solution in the neighborhood\n"
   ]
  },
  {
   "cell_type": "markdown",
   "metadata": {
    "slideshow": {
     "slide_type": "slide"
    }
   },
   "source": [
    "# Aside: Gradient Descent Cont.\n",
    "<br>\n",
    "<br>\n",
    "<div align=\"center\"><img src=\"images/gradient_descent.png\" width=\"1000px\"></div>"
   ]
  },
  {
   "cell_type": "markdown",
   "metadata": {
    "slideshow": {
     "slide_type": "slide"
    }
   },
   "source": [
    "# Simple Regression Using scikit-learn"
   ]
  },
  {
   "cell_type": "code",
   "execution_count": 7,
   "metadata": {
    "slideshow": {
     "slide_type": "fragment"
    }
   },
   "outputs": [],
   "source": [
    "# import the model from sklearn\n",
    "from sklearn.linear_model import LinearRegression "
   ]
  },
  {
   "cell_type": "code",
   "execution_count": 8,
   "metadata": {
    "slideshow": {
     "slide_type": "fragment"
    }
   },
   "outputs": [],
   "source": [
    " # instantiate the model and set hyperparameters\n",
    "lr = LinearRegression(fit_intercept=True, # by default\n",
    "                      normalize=False)    # by default"
   ]
  },
  {
   "cell_type": "code",
   "execution_count": 9,
   "metadata": {
    "slideshow": {
     "slide_type": "fragment"
    }
   },
   "outputs": [],
   "source": [
    "# fit the model\n",
    "lr.fit(X=df_wine.proline.values.reshape(-1, 1), y=df_wine.alcohol); "
   ]
  },
  {
   "cell_type": "code",
   "execution_count": 10,
   "metadata": {
    "slideshow": {
     "slide_type": "fragment"
    }
   },
   "outputs": [
    {
     "name": "stdout",
     "output_type": "stream",
     "text": [
      "[0.0016595]\n",
      "11.761148483143147\n"
     ]
    }
   ],
   "source": [
    "# display learned coefficients (_ in)\n",
    "print(lr.coef_)\n",
    "print(lr.intercept_) "
   ]
  },
  {
   "cell_type": "code",
   "execution_count": 11,
   "metadata": {
    "slideshow": {
     "slide_type": "fragment"
    }
   },
   "outputs": [
    {
     "data": {
      "text/plain": [
       "array([13.42064866, 15.08014884])"
      ]
     },
     "execution_count": 11,
     "metadata": {},
     "output_type": "execute_result"
    }
   ],
   "source": [
    "# predict given new values for proline\n",
    "X = np.array([1000,2000]).reshape(-1,1)\n",
    "lr.predict(X)"
   ]
  },
  {
   "cell_type": "markdown",
   "metadata": {
    "slideshow": {
     "slide_type": "slide"
    }
   },
   "source": [
    "# Why .reshape(-1,1)?\n",
    "<br>\n",
    "\n",
    "\n",
    "scikit-learn models expect the input features to be 2 dimensional"
   ]
  },
  {
   "cell_type": "code",
   "execution_count": 12,
   "metadata": {
    "slideshow": {
     "slide_type": "fragment"
    }
   },
   "outputs": [
    {
     "data": {
      "text/plain": [
       "array([1065., 1050., 1185., 1480.,  735.])"
      ]
     },
     "execution_count": 12,
     "metadata": {},
     "output_type": "execute_result"
    }
   ],
   "source": [
    "df_wine.proline.values[:5]"
   ]
  },
  {
   "cell_type": "code",
   "execution_count": 13,
   "metadata": {
    "slideshow": {
     "slide_type": "fragment"
    }
   },
   "outputs": [
    {
     "data": {
      "text/plain": [
       "(178,)"
      ]
     },
     "execution_count": 13,
     "metadata": {},
     "output_type": "execute_result"
    }
   ],
   "source": [
    "df_wine.proline.values.shape"
   ]
  },
  {
   "cell_type": "code",
   "execution_count": 14,
   "metadata": {
    "slideshow": {
     "slide_type": "fragment"
    }
   },
   "outputs": [
    {
     "data": {
      "text/plain": [
       "(178, 1)"
      ]
     },
     "execution_count": 14,
     "metadata": {},
     "output_type": "execute_result"
    }
   ],
   "source": [
    "df_wine.proline.values.reshape(-1,1).shape"
   ]
  },
  {
   "cell_type": "markdown",
   "metadata": {
    "slideshow": {
     "slide_type": "fragment"
    }
   },
   "source": [
    "-1 means \"infer from the data\""
   ]
  },
  {
   "cell_type": "markdown",
   "metadata": {
    "slideshow": {
     "slide_type": "slide"
    }
   },
   "source": [
    "# Interpreting Coefficients"
   ]
  },
  {
   "cell_type": "code",
   "execution_count": 15,
   "metadata": {
    "slideshow": {
     "slide_type": "fragment"
    }
   },
   "outputs": [
    {
     "name": "stdout",
     "output_type": "stream",
     "text": [
      "beta=0.002, alpha=11.761\n"
     ]
    }
   ],
   "source": [
    "print(f'beta={lr.coef_[0]:0.3f}, alpha={lr.intercept_:0.3f}')"
   ]
  },
  {
   "cell_type": "code",
   "execution_count": 16,
   "metadata": {
    "slideshow": {
     "slide_type": "fragment"
    }
   },
   "outputs": [
    {
     "name": "stdout",
     "output_type": "stream",
     "text": [
      "alchohol = 0.002*proline + 11.761\n"
     ]
    }
   ],
   "source": [
    "print(f'alchohol = {lr.coef_[0]:0.3f}*proline + {lr.intercept_:0.3f}')"
   ]
  },
  {
   "cell_type": "markdown",
   "metadata": {
    "slideshow": {
     "slide_type": "fragment"
    }
   },
   "source": [
    "- When proline goes up by 1, alcohol goes up by .002\n",
    "- When proline is 0, alcohol is 11.761"
   ]
  },
  {
   "cell_type": "markdown",
   "metadata": {
    "slideshow": {
     "slide_type": "slide"
    }
   },
   "source": [
    "# Plotting The Model"
   ]
  },
  {
   "cell_type": "code",
   "execution_count": 17,
   "metadata": {
    "slideshow": {
     "slide_type": "fragment"
    }
   },
   "outputs": [
    {
     "data": {
      "image/png": "[encoded data removed]",
      "text/plain": [
       "<Figure size 864x576 with 1 Axes>"
      ]
     },
     "metadata": {
      "needs_background": "light"
     },
     "output_type": "display_data"
    }
   ],
   "source": [
    "x_predict = [df_wine.proline.min(),df_wine.proline.max()]\n",
    "y_hat = lr.predict(np.array(x_predict).reshape(-1,1))\n",
    "\n",
    "fig,ax = plt.subplots(1,1,figsize=(12,8))\n",
    "ax = sns.scatterplot(x=df_wine.proline,y=df_wine.alcohol);\n",
    "ax.plot(x_predict,y_hat);"
   ]
  },
  {
   "cell_type": "markdown",
   "metadata": {
    "slideshow": {
     "slide_type": "slide"
    }
   },
   "source": [
    "# Multiple Linear Regression\n",
    "<br>\n",
    "\n",
    "- Including multiple independent variables\n",
    "\n",
    "$y_i = w_0 + w_1 x_{i1} + w_2 x_{i2} + \\ldots + w_m x_{im} + \\varepsilon_i$\n",
    "\n",
    "\n",
    "Ex: \n",
    "\n",
    "<center>alcohol = w_0 + w_1*proline + w_2*hue</center>\n",
    "\n",
    "\n",
    "Objective: Find a plane that falls as close to our points as possible\n",
    "\n",
    "<div align=\"center\"><img src=\"images/multiple_linear_regression.png\" width=\"500px\"></div>"
   ]
  },
  {
   "cell_type": "markdown",
   "metadata": {
    "slideshow": {
     "slide_type": "slide"
    }
   },
   "source": [
    "# Multiple Linear Regression in scikit-learn"
   ]
  },
  {
   "cell_type": "code",
   "execution_count": 18,
   "metadata": {
    "slideshow": {
     "slide_type": "fragment"
    }
   },
   "outputs": [
    {
     "name": "stdout",
     "output_type": "stream",
     "text": [
      "proline    :  0.002\n",
      "hue        : -0.842\n",
      "intercept  : 12.459\n"
     ]
    }
   ],
   "source": [
    "mlr = LinearRegression()\n",
    "mlr.fit(df_wine[['proline','hue']],y=df_wine.alcohol);\n",
    "\n",
    "for (name,coef) in zip(['proline','hue'],mlr.coef_):\n",
    "    print(f'{name:10s} : {coef: 0.3f}')\n",
    "print(f'{\"intercept\":10s} : {mlr.intercept_:0.3f}')"
   ]
  },
  {
   "cell_type": "markdown",
   "metadata": {},
   "source": [
    "- If we hold everything else constant, what effect does the variable have\n",
    "- If hue is held constant, a rise of 1 proline -> rise of .002 in alcohol\n",
    "- If proline is held constant, a rise of 1 hue -> decrease of .842 in alcohol\n",
    "\n",
    "- Can add interaction terms to allow both to move\n",
    " - Ex: hue * proline\n",
    " - more complicated to interpret"
   ]
  },
  {
   "cell_type": "markdown",
   "metadata": {
    "slideshow": {
     "slide_type": "slide"
    }
   },
   "source": [
    "# Multiple Linear Regression in statsmodels"
   ]
  },
  {
   "cell_type": "code",
   "execution_count": 19,
   "metadata": {
    "slideshow": {
     "slide_type": "fragment"
    }
   },
   "outputs": [
    {
     "data": {
      "text/html": [
       "<table class=\"simpletable\">\n",
       "<caption>OLS Regression Results</caption>\n",
       "<tr>\n",
       "  <th>Dep. Variable:</th>         <td>alcohol</td>     <th>  R-squared:         </th> <td>   0.467</td>\n",
       "</tr>\n",
       "<tr>\n",
       "  <th>Model:</th>                   <td>OLS</td>       <th>  Adj. R-squared:    </th> <td>   0.461</td>\n",
       "</tr>\n",
       "<tr>\n",
       "  <th>Method:</th>             <td>Least Squares</td>  <th>  F-statistic:       </th> <td>   76.79</td>\n",
       "</tr>\n",
       "<tr>\n",
       "  <th>Date:</th>             <td>Sun, 11 Oct 2020</td> <th>  Prob (F-statistic):</th> <td>1.15e-24</td>\n",
       "</tr>\n",
       "<tr>\n",
       "  <th>Time:</th>                 <td>16:58:27</td>     <th>  Log-Likelihood:    </th> <td> -158.89</td>\n",
       "</tr>\n",
       "<tr>\n",
       "  <th>No. Observations:</th>      <td>   178</td>      <th>  AIC:               </th> <td>   323.8</td>\n",
       "</tr>\n",
       "<tr>\n",
       "  <th>Df Residuals:</th>          <td>   175</td>      <th>  BIC:               </th> <td>   333.3</td>\n",
       "</tr>\n",
       "<tr>\n",
       "  <th>Df Model:</th>              <td>     2</td>      <th>                     </th>     <td> </td>   \n",
       "</tr>\n",
       "<tr>\n",
       "  <th>Covariance Type:</th>      <td>nonrobust</td>    <th>                     </th>     <td> </td>   \n",
       "</tr>\n",
       "</table>\n",
       "<table class=\"simpletable\">\n",
       "<tr>\n",
       "     <td></td>        <th>coef</th>     <th>std err</th>      <th>t</th>      <th>P>|t|</th>  <th>[0.025</th>    <th>0.975]</th>  \n",
       "</tr>\n",
       "<tr>\n",
       "  <th>const</th>   <td>   12.4593</td> <td>    0.203</td> <td>   61.347</td> <td> 0.000</td> <td>   12.058</td> <td>   12.860</td>\n",
       "</tr>\n",
       "<tr>\n",
       "  <th>proline</th> <td>    0.0018</td> <td>    0.000</td> <td>   12.325</td> <td> 0.000</td> <td>    0.002</td> <td>    0.002</td>\n",
       "</tr>\n",
       "<tr>\n",
       "  <th>hue</th>     <td>   -0.8418</td> <td>    0.202</td> <td>   -4.175</td> <td> 0.000</td> <td>   -1.240</td> <td>   -0.444</td>\n",
       "</tr>\n",
       "</table>\n",
       "<table class=\"simpletable\">\n",
       "<tr>\n",
       "  <th>Omnibus:</th>       <td> 0.751</td> <th>  Durbin-Watson:     </th> <td>   1.734</td>\n",
       "</tr>\n",
       "<tr>\n",
       "  <th>Prob(Omnibus):</th> <td> 0.687</td> <th>  Jarque-Bera (JB):  </th> <td>   0.606</td>\n",
       "</tr>\n",
       "<tr>\n",
       "  <th>Skew:</th>          <td> 0.142</td> <th>  Prob(JB):          </th> <td>   0.739</td>\n",
       "</tr>\n",
       "<tr>\n",
       "  <th>Kurtosis:</th>      <td> 3.028</td> <th>  Cond. No.          </th> <td>4.96e+03</td>\n",
       "</tr>\n",
       "</table><br/><br/>Warnings:<br/>[1] Standard Errors assume that the covariance matrix of the errors is correctly specified.<br/>[2] The condition number is large, 4.96e+03. This might indicate that there are<br/>strong multicollinearity or other numerical problems."
      ],
      "text/plain": [
       "<class 'statsmodels.iolib.summary.Summary'>\n",
       "\"\"\"\n",
       "                            OLS Regression Results                            \n",
       "==============================================================================\n",
       "Dep. Variable:                alcohol   R-squared:                       0.467\n",
       "Model:                            OLS   Adj. R-squared:                  0.461\n",
       "Method:                 Least Squares   F-statistic:                     76.79\n",
       "Date:                Sun, 11 Oct 2020   Prob (F-statistic):           1.15e-24\n",
       "Time:                        16:58:27   Log-Likelihood:                -158.89\n",
       "No. Observations:                 178   AIC:                             323.8\n",
       "Df Residuals:                     175   BIC:                             333.3\n",
       "Df Model:                           2                                         \n",
       "Covariance Type:            nonrobust                                         \n",
       "==============================================================================\n",
       "                 coef    std err          t      P>|t|      [0.025      0.975]\n",
       "------------------------------------------------------------------------------\n",
       "const         12.4593      0.203     61.347      0.000      12.058      12.860\n",
       "proline        0.0018      0.000     12.325      0.000       0.002       0.002\n",
       "hue           -0.8418      0.202     -4.175      0.000      -1.240      -0.444\n",
       "==============================================================================\n",
       "Omnibus:                        0.751   Durbin-Watson:                   1.734\n",
       "Prob(Omnibus):                  0.687   Jarque-Bera (JB):                0.606\n",
       "Skew:                           0.142   Prob(JB):                        0.739\n",
       "Kurtosis:                       3.028   Cond. No.                     4.96e+03\n",
       "==============================================================================\n",
       "\n",
       "Warnings:\n",
       "[1] Standard Errors assume that the covariance matrix of the errors is correctly specified.\n",
       "[2] The condition number is large, 4.96e+03. This might indicate that there are\n",
       "strong multicollinearity or other numerical problems.\n",
       "\"\"\""
      ]
     },
     "execution_count": 19,
     "metadata": {},
     "output_type": "execute_result"
    }
   ],
   "source": [
    "import statsmodels.api as sm\n",
    "\n",
    "X = df_wine[['proline','hue']]\n",
    "X = sm.add_constant(X)\n",
    "y = df_wine.alcohol                \n",
    "sm_mlr = sm.OLS(y,X).fit() # Note: X,y passed as parameters to object, not fit\n",
    "sm_mlr.summary()"
   ]
  },
  {
   "cell_type": "markdown",
   "metadata": {
    "slideshow": {
     "slide_type": "slide"
    }
   },
   "source": [
    "# Standardizing/Normalizing Features for Interpretation"
   ]
  },
  {
   "cell_type": "code",
   "execution_count": 20,
   "metadata": {
    "slideshow": {
     "slide_type": "fragment"
    }
   },
   "outputs": [
    {
     "name": "stdout",
     "output_type": "stream",
     "text": [
      "proline    :  0.002\n",
      "hue        : -0.842\n"
     ]
    }
   ],
   "source": [
    "for (name,coef) in zip(['proline','hue'],mlr.coef_):\n",
    "    print(f'{name:10s} : {coef: 0.3f}')"
   ]
  },
  {
   "cell_type": "code",
   "execution_count": 21,
   "metadata": {
    "slideshow": {
     "slide_type": "fragment"
    }
   },
   "outputs": [
    {
     "data": {
      "image/png": "[encoded data removed]",
      "text/plain": [
       "<Figure size 864x288 with 2 Axes>"
      ]
     },
     "metadata": {
      "needs_background": "light"
     },
     "output_type": "display_data"
    }
   ],
   "source": [
    "fig,ax = plt.subplots(1,2,figsize=(12,4))\n",
    "sns.regplot(x='proline',y='alcohol',data=df_wine,ax=ax[0])\n",
    "sns.regplot(x='hue',y='alcohol',data=df_wine,ax=ax[1]);"
   ]
  },
  {
   "cell_type": "markdown",
   "metadata": {
    "slideshow": {
     "slide_type": "fragment"
    }
   },
   "source": [
    "What would the coefficents look like if the features were on the same scale?"
   ]
  },
  {
   "cell_type": "markdown",
   "metadata": {
    "slideshow": {
     "slide_type": "slide"
    }
   },
   "source": [
    "# Standardizing/Normalizing Features for Gradient Descent\n",
    "<br>"
   ]
  },
  {
   "cell_type": "markdown",
   "metadata": {
    "slideshow": {
     "slide_type": "fragment"
    }
   },
   "source": [
    "<center>$\\Large z = \\frac{x - \\bar{x}}{s}$</center>"
   ]
  },
  {
   "cell_type": "markdown",
   "metadata": {
    "slideshow": {
     "slide_type": "fragment"
    }
   },
   "source": [
    "<div align=\"center\"><img src=\"images/gradient_descent_with_standardization.png\" width=\"600px\"></div>\n",
    "\n",
    "From PML"
   ]
  },
  {
   "cell_type": "markdown",
   "metadata": {
    "slideshow": {
     "slide_type": "slide"
    }
   },
   "source": [
    "# Multiple Linear Regression with Standardization/Normalization"
   ]
  },
  {
   "cell_type": "markdown",
   "metadata": {
    "slideshow": {
     "slide_type": "fragment"
    }
   },
   "source": [
    "- `DataFrame.apply()`: apply a function to each column (axis=0) or each row (axis=1)"
   ]
  },
  {
   "cell_type": "code",
   "execution_count": 22,
   "metadata": {
    "slideshow": {
     "slide_type": "fragment"
    }
   },
   "outputs": [
    {
     "name": "stdout",
     "output_type": "stream",
     "text": [
      "proline    :  0.568\n",
      "hue        : -0.192\n"
     ]
    }
   ],
   "source": [
    "X_zscore = df_wine[['proline','hue']].apply(lambda x: (x-x.mean())/x.std(),axis=0)\n",
    "\n",
    "mlr_n = LinearRegression()\n",
    "mlr_n.fit(X_zscore, df_wine.alcohol)\n",
    "for (name,coef) in zip(X_zscore.columns,mlr_n.coef_):\n",
    "    print(f'{name:10s} : {coef: 0.3f}')"
   ]
  },
  {
   "cell_type": "code",
   "execution_count": 23,
   "metadata": {
    "slideshow": {
     "slide_type": "fragment"
    }
   },
   "outputs": [
    {
     "data": {
      "image/png": "[encoded data removed]",
      "text/plain": [
       "<Figure size 864x288 with 2 Axes>"
      ]
     },
     "metadata": {
      "needs_background": "light"
     },
     "output_type": "display_data"
    }
   ],
   "source": [
    "fig,ax = plt.subplots(1,2,figsize=(12,4))\n",
    "sns.regplot(x=X_zscore.proline,y=df_wine.alcohol,ax=ax[0]);\n",
    "sns.regplot(x=X_zscore.hue,y=df_wine.alcohol,ax=ax[1]);"
   ]
  },
  {
   "cell_type": "markdown",
   "metadata": {
    "slideshow": {
     "slide_type": "slide"
    }
   },
   "source": [
    "# Colinarity\n",
    "\n",
    "- MLR assumes features are linearly independent\n",
    " - eg: Can't rewrite one column as a weighted sum of the others\n",
    " - Ex: in tips dataset: number of entrees ordered will likely be linearly related to table size\n",
    "<br>\n",
    "\n",
    "\n",
    "- Issue: Model won't know how to estimate $w$\n",
    " - If we add to one $w_i$ and subtract from another, there will be no change in error\n",
    "<br>\n",
    "\n",
    "\n",
    "- Try to remove obvious colinearity\n",
    " - can use correlation and linear regression to detect\n",
    " - Important to consider when constructing categorical features (feature engineering)"
   ]
  },
  {
   "cell_type": "code",
   "execution_count": 24,
   "metadata": {
    "slideshow": {
     "slide_type": "fragment"
    }
   },
   "outputs": [
    {
     "data": {
      "image/png": "[encoded data removed]",
      "text/plain": [
       "<Figure size 432x288 with 1 Axes>"
      ]
     },
     "metadata": {
      "needs_background": "light"
     },
     "output_type": "display_data"
    }
   ],
   "source": [
    "sns.scatterplot(x='proline',y='hue',data=df_wine);"
   ]
  },
  {
   "cell_type": "markdown",
   "metadata": {
    "slideshow": {
     "slide_type": "slide"
    }
   },
   "source": [
    "# Aside: Interpretation Vs. Prediction\n",
    "<br>\n",
    "\n",
    "\n",
    "- Interpretation: Explain how observed features relate to observed target\n",
    "- Prediction: Given new features, can we generate a prediction\n",
    "<br>\n",
    "    \n",
    "- Often asked to do one or the other, be clear which is most important\n",
    "- In prediction, may not worry about interpreting the model!\n",
    "<br>\n",
    "\n",
    "- There is increased attention on interpretability"
   ]
  },
  {
   "cell_type": "markdown",
   "metadata": {
    "slideshow": {
     "slide_type": "slide"
    }
   },
   "source": [
    "<br>\n",
    "<br>\n",
    "\n",
    "# <center>Questions re Regression with Linear Models?</center>\n",
    "<br>\n",
    "<br>"
   ]
  },
  {
   "cell_type": "markdown",
   "metadata": {
    "slideshow": {
     "slide_type": "slide"
    }
   },
   "source": [
    "# Classification\n",
    "<br>\n",
    "\n",
    "- **Regression** -> predict a numeric value\n",
    "- **Classification** -> predict a discrete class, category\n",
    "\n",
    "\n",
    "- **Binary classification** : two categories\n",
    " - pos/neg, cat/dog, win/lose\n",
    "<br>\n",
    "\n",
    "- **Multiclass classification** : more than two categories\n",
    " - red/green/blue, flower type, integer 0-10\n",
    "<br>\n",
    "\n",
    "- **Multilabel classification** : can assign more than one label to an instance\n",
    " - paper topics, entities in image"
   ]
  },
  {
   "cell_type": "markdown",
   "metadata": {
    "slideshow": {
     "slide_type": "slide"
    }
   },
   "source": [
    "# Wine as Binary Classification"
   ]
  },
  {
   "cell_type": "code",
   "execution_count": 25,
   "metadata": {
    "slideshow": {
     "slide_type": "fragment"
    }
   },
   "outputs": [
    {
     "data": {
      "text/plain": [
       "1    71\n",
       "0    59\n",
       "2    48\n",
       "Name: class, dtype: int64"
      ]
     },
     "execution_count": 25,
     "metadata": {},
     "output_type": "execute_result"
    }
   ],
   "source": [
    "df_wine['class'].value_counts()"
   ]
  },
  {
   "cell_type": "code",
   "execution_count": 26,
   "metadata": {
    "slideshow": {
     "slide_type": "fragment"
    }
   },
   "outputs": [
    {
     "data": {
      "text/plain": [
       "1    71\n",
       "0    59\n",
       "Name: target, dtype: int64"
      ]
     },
     "execution_count": 26,
     "metadata": {},
     "output_type": "execute_result"
    }
   ],
   "source": [
    "# only keep classes 0 and 1\n",
    "df_wine_2class = df_wine[df_wine['class'] < 2]\n",
    "\n",
    "# rename 'class' as 'target', since class is a reserved python word\n",
    "df_wine_2class = df_wine_2class.rename({'class':'target'},axis=1)\n",
    "\n",
    "df_wine_2class.target.value_counts()"
   ]
  },
  {
   "cell_type": "markdown",
   "metadata": {
    "slideshow": {
     "slide_type": "slide"
    }
   },
   "source": [
    "# Classifying Wine with a Linear Model"
   ]
  },
  {
   "cell_type": "markdown",
   "metadata": {
    "slideshow": {
     "slide_type": "fragment"
    }
   },
   "source": [
    "- Can't use our linear regression model directly"
   ]
  },
  {
   "cell_type": "code",
   "execution_count": 27,
   "metadata": {
    "slideshow": {
     "slide_type": "fragment"
    }
   },
   "outputs": [
    {
     "data": {
      "image/png": "[encoded data removed]",
      "text/plain": [
       "<Figure size 576x432 with 1 Axes>"
      ]
     },
     "metadata": {
      "needs_background": "light"
     },
     "output_type": "display_data"
    }
   ],
   "source": [
    "fig,ax = plt.subplots(1,1,figsize=(8,6))\n",
    "sns.regplot(x=df_wine_2class.proline,y=df_wine_2class.target);\n",
    "ax.plot([400,800,800,1600],[1,1,0,0],c='r');"
   ]
  },
  {
   "cell_type": "markdown",
   "metadata": {
    "slideshow": {
     "slide_type": "fragment"
    }
   },
   "source": [
    "- Want something with that looks like a threshold\n",
    "- Would like a prediction between 0 and 1"
   ]
  },
  {
   "cell_type": "markdown",
   "metadata": {
    "slideshow": {
     "slide_type": "slide"
    }
   },
   "source": [
    "# Logistic Regression"
   ]
  },
  {
   "cell_type": "markdown",
   "metadata": {
    "slideshow": {
     "slide_type": "fragment"
    }
   },
   "source": [
    "<center>$\\Large logistic(x) = \\frac{1}{1+e^{(-x)}}$</center>"
   ]
  },
  {
   "cell_type": "code",
   "execution_count": 28,
   "metadata": {
    "slideshow": {
     "slide_type": "fragment"
    }
   },
   "outputs": [
    {
     "data": {
      "image/png": "[encoded data removed]",
      "text/plain": [
       "<Figure size 576x432 with 1 Axes>"
      ]
     },
     "metadata": {
      "needs_background": "light"
     },
     "output_type": "display_data"
    }
   ],
   "source": [
    "def logistic(x,w1=1,w0=0):\n",
    "    return 1 / (1+np.exp(-(w0+w1*x)))\n",
    "\n",
    "x = np.linspace(-10,10,1000) # generate 1000 numbers evenly spaced between -10 and 10\n",
    "fig,ax = plt.subplots(1,1,figsize=(8,6))\n",
    "ax.plot(x,logistic(x));\n",
    "ax.set_xlabel('x');ax.set_ylabel('logistic(x)');"
   ]
  },
  {
   "cell_type": "markdown",
   "metadata": {
    "slideshow": {
     "slide_type": "slide"
    }
   },
   "source": [
    "# Logistic Regression with sklearn"
   ]
  },
  {
   "cell_type": "markdown",
   "metadata": {
    "slideshow": {
     "slide_type": "fragment"
    }
   },
   "source": [
    "- Our problem becomes: $P(y_i=1|x_i) = logistic(w_0 + w_1 x_i)+\\varepsilon_i$"
   ]
  },
  {
   "cell_type": "code",
   "execution_count": 29,
   "metadata": {
    "slideshow": {
     "slide_type": "fragment"
    }
   },
   "outputs": [
    {
     "name": "stdout",
     "output_type": "stream",
     "text": [
      "w_0 = 11.97\n",
      "w_1 = -0.01\n"
     ]
    }
   ],
   "source": [
    "from sklearn.linear_model import LogisticRegression\n",
    "\n",
    "X = df_wine_2class.proline.values.reshape(-1,1)\n",
    "y = df_wine_2class.target\n",
    "\n",
    "logr = LogisticRegression(fit_intercept=True).fit(X,y)\n",
    "print(f'w_0 = {logr.intercept_[0]:0.2f}')\n",
    "print(f'w_1 = {logr.coef_[0][0]:0.2f}')"
   ]
  },
  {
   "cell_type": "code",
   "execution_count": 30,
   "metadata": {
    "slideshow": {
     "slide_type": "fragment"
    }
   },
   "outputs": [
    {
     "data": {
      "image/png": "[encoded data removed]",
      "text/plain": [
       "<Figure size 432x288 with 1 Axes>"
      ]
     },
     "metadata": {
      "needs_background": "light"
     },
     "output_type": "display_data"
    }
   ],
   "source": [
    "fig,ax = plt.subplots(1,1,figsize=(6,4))\n",
    "x = np.linspace(300,1700,1000)\n",
    "logistic_x = logistic(x,logr.coef_[0],logr.intercept_)\n",
    "ax.plot(x,logistic_x,c='gray');\n",
    "sns.scatterplot(x=df_wine_2class.proline,y=df_wine_2class.target, ax=ax);"
   ]
  },
  {
   "cell_type": "markdown",
   "metadata": {
    "slideshow": {
     "slide_type": "slide"
    }
   },
   "source": [
    "# Adding the Threshold"
   ]
  },
  {
   "cell_type": "markdown",
   "metadata": {
    "slideshow": {
     "slide_type": "fragment"
    }
   },
   "source": [
    "- Can treat the output of the logistic function as $P(y=1|x)$\n",
    "- Threshold at .5 (50%) to get class prediction"
   ]
  },
  {
   "cell_type": "code",
   "execution_count": 31,
   "metadata": {
    "slideshow": {
     "slide_type": "fragment"
    }
   },
   "outputs": [
    {
     "data": {
      "image/png": "[encoded data removed]",
      "text/plain": [
       "<Figure size 432x288 with 1 Axes>"
      ]
     },
     "metadata": {
      "needs_background": "light"
     },
     "output_type": "display_data"
    }
   ],
   "source": [
    "threshold = x[np.argmin(np.abs(logistic_x - .5))]\n",
    "\n",
    "predicted_0 = df_wine_2class[df_wine_2class.proline <= threshold]\n",
    "predicted_1 = df_wine_2class[df_wine_2class.proline > threshold]\n",
    "\n",
    "fig,ax = plt.subplots(1,1,figsize=(6,4))\n",
    "sns.scatterplot(x='proline',y='target', data=predicted_0, color='r',ax=ax);\n",
    "sns.scatterplot(x='proline',y='target', data=predicted_1, color='b',ax=ax);\n",
    "ax.plot(x,logistic_x,c='gray');\n",
    "ax.axvline(threshold,c='k');"
   ]
  },
  {
   "cell_type": "markdown",
   "metadata": {
    "slideshow": {
     "slide_type": "slide"
    }
   },
   "source": [
    "# Getting Predictions from sklearn"
   ]
  },
  {
   "cell_type": "code",
   "execution_count": 32,
   "metadata": {
    "slideshow": {
     "slide_type": "fragment"
    }
   },
   "outputs": [
    {
     "data": {
      "image/png": "[encoded data removed]",
      "text/plain": [
       "<Figure size 576x432 with 1 Axes>"
      ]
     },
     "metadata": {
      "needs_background": "light"
     },
     "output_type": "display_data"
    }
   ],
   "source": [
    "yhat = logr.predict(X)\n",
    "\n",
    "predicted_0 = df_wine_2class[yhat==0]\n",
    "predicted_1 = df_wine_2class[yhat==1]\n",
    "\n",
    "fig,ax = plt.subplots(1,1,figsize=(8,6))\n",
    "sns.scatterplot(x='proline',y='target', data=predicted_0, color='r',ax=ax);\n",
    "sns.scatterplot(x='proline',y='target', data=predicted_1, color='b',ax=ax);\n",
    "ax.axvline(threshold,c='k');"
   ]
  },
  {
   "cell_type": "markdown",
   "metadata": {
    "slideshow": {
     "slide_type": "fragment"
    }
   },
   "source": [
    "Note we have some errors!"
   ]
  },
  {
   "cell_type": "markdown",
   "metadata": {
    "slideshow": {
     "slide_type": "slide"
    }
   },
   "source": [
    "# Getting Probabilities from sklearn"
   ]
  },
  {
   "cell_type": "markdown",
   "metadata": {
    "slideshow": {
     "slide_type": "fragment"
    }
   },
   "source": [
    "- said we could use output of logistic as $P(y=1|x)$"
   ]
  },
  {
   "cell_type": "code",
   "execution_count": 33,
   "metadata": {
    "slideshow": {
     "slide_type": "fragment"
    }
   },
   "outputs": [
    {
     "data": {
      "text/plain": [
       "array([[9.81833759e-01, 1.81662409e-02],\n",
       "       [9.77356984e-01, 2.26430157e-02],\n",
       "       [9.96947414e-01, 3.05258552e-03],\n",
       "       [9.99963234e-01, 3.67664871e-05],\n",
       "       [2.77482032e-01, 7.22517968e-01]])"
      ]
     },
     "execution_count": 33,
     "metadata": {},
     "output_type": "execute_result"
    }
   ],
   "source": [
    "p_y = logr.predict_proba(X)\n",
    "p_y[:5] # p(y=0|x), p(y=1|x)"
   ]
  },
  {
   "cell_type": "code",
   "execution_count": 34,
   "metadata": {
    "slideshow": {
     "slide_type": "fragment"
    }
   },
   "outputs": [
    {
     "data": {
      "image/png": "[encoded data removed]",
      "text/plain": [
       "<Figure size 432x288 with 1 Axes>"
      ]
     },
     "metadata": {
      "needs_background": "light"
     },
     "output_type": "display_data"
    }
   ],
   "source": [
    "plt.scatter(df_wine_2class.proline,p_y[:,1]);"
   ]
  },
  {
   "cell_type": "markdown",
   "metadata": {
    "slideshow": {
     "slide_type": "slide"
    }
   },
   "source": [
    "# Interpreting Logistic Regression Coefficients\n",
    "<br>\n",
    "\n",
    "- After some math\n",
    "\n",
    "<center>\n",
    "$\\log\\left(\\frac{y_i}{1-y_i}\\right) = w_0 + w_1 x_{i1}$</center>\n",
    "\n",
    "- this is the **log odds ratio** of p(y=1)/p(y=0)\n",
    "- odds range from 0 to positive infinity\n",
    "\n",
    "\n",
    "- odds(5) -> 5/1 -> 5 out of 6 times -> .83\n",
    "\n",
    "\n",
    "- odds(.2) -> 1/5 -> 1 out of 6 times -> .16\n",
    "\n",
    "\n",
    "See [here](https://stats.idre.ucla.edu/other/mult-pkg/faq/general/faq-how-do-i-interpret-odds-ratios-in-logistic-regression/) for a good explanation\n"
   ]
  },
  {
   "cell_type": "markdown",
   "metadata": {
    "slideshow": {
     "slide_type": "slide"
    }
   },
   "source": [
    "# Logistic Regression with Multiple Features"
   ]
  },
  {
   "cell_type": "code",
   "execution_count": 35,
   "metadata": {
    "slideshow": {
     "slide_type": "fragment"
    }
   },
   "outputs": [
    {
     "name": "stdout",
     "output_type": "stream",
     "text": [
      "proline    : -0.015\n",
      "hue        :  0.600\n"
     ]
    }
   ],
   "source": [
    "X = df_wine_2class[['proline','hue']]\n",
    "logrm = LogisticRegression().fit(X,y)\n",
    "for (name,coef) in zip(X.columns,logrm.coef_[0]):\n",
    "    print(f'{name:10s} : {coef: 0.3f}')"
   ]
  },
  {
   "cell_type": "code",
   "execution_count": 36,
   "metadata": {
    "slideshow": {
     "slide_type": "fragment"
    }
   },
   "outputs": [
    {
     "data": {
      "image/png": "[encoded data removed]",
      "text/plain": [
       "<Figure size 432x432 with 1 Axes>"
      ]
     },
     "metadata": {
      "needs_background": "light"
     },
     "output_type": "display_data"
    }
   ],
   "source": [
    "# need to have run: conda install -n eods-f20 -c conda-forge mlxtend\n",
    "from mlxtend.plotting import plot_decision_regions\n",
    "\n",
    "fig,ax = plt.subplots(1,1,figsize=(6,6))\n",
    "plot_decision_regions(X.values, y.values, clf=logrm, ax=ax);\n",
    "ax.set_xlabel(X.columns[0]); ax.set_ylabel(X.columns[1]);\n",
    "ax.set_ylim(.5,2);"
   ]
  },
  {
   "cell_type": "markdown",
   "metadata": {
    "slideshow": {
     "slide_type": "slide"
    }
   },
   "source": [
    "# Linearly Seperable Data\n",
    "<br>\n"
   ]
  },
  {
   "cell_type": "markdown",
   "metadata": {
    "slideshow": {
     "slide_type": "fragment"
    }
   },
   "source": [
    "- Logistic Regression depends on data being linearly seperable\n",
    "<br>\n",
    "<br>\n",
    "\n",
    "<div align=\"center\"><img src=\"images/linearly_seperable.png\"></div>\n",
    "\n",
    "From PML"
   ]
  },
  {
   "cell_type": "markdown",
   "metadata": {
    "slideshow": {
     "slide_type": "slide"
    }
   },
   "source": [
    "# Another Linear Classification Model: SVM\n",
    "<br>\n",
    "<br>\n",
    "\n",
    "- For a linearly seperable dataset, where should we place the decision boundary?\n",
    "- Support Vector Machine (SVM) tries to \"maximize the margin\" between classes\n",
    "<br>\n",
    "<br>\n",
    "\n",
    "<div align=\"center\"><img src=\"images/which_hyperplane.png\" width=\"1200px\"></div>\n",
    "\n",
    "From PML"
   ]
  },
  {
   "cell_type": "markdown",
   "metadata": {
    "slideshow": {
     "slide_type": "slide"
    }
   },
   "source": [
    "# SVM Hyperparameter C\n",
    "<br>\n",
    "\n",
    "- **Hyperparameter**: Something we set\n",
    "<br>\n",
    "<br>\n",
    "\n",
    "<div align=\"center\"><img src=\"images/svm_hyperparameter.png\" width=\"1200px\"></div>\n",
    "\n",
    "From PML"
   ]
  },
  {
   "cell_type": "markdown",
   "metadata": {
    "slideshow": {
     "slide_type": "slide"
    }
   },
   "source": [
    "# SVM with sklearn"
   ]
  },
  {
   "cell_type": "code",
   "execution_count": 37,
   "metadata": {
    "slideshow": {
     "slide_type": "fragment"
    }
   },
   "outputs": [
    {
     "data": {
      "image/png": "[encoded data removed]",
      "text/plain": [
       "<Figure size 432x432 with 1 Axes>"
      ]
     },
     "metadata": {
      "needs_background": "light"
     },
     "output_type": "display_data"
    }
   ],
   "source": [
    "from sklearn.svm import SVC\n",
    "svm_linear = SVC(kernel='linear')\n",
    "svm_linear.fit(X,y);\n",
    "\n",
    "fig,ax = plt.subplots(1,1,figsize=(6,6))\n",
    "plot_decision_regions(X.values, y.values, clf=svm_linear);\n",
    "plt.xlabel(X.columns[0]); plt.ylabel(X.columns[1]);"
   ]
  },
  {
   "cell_type": "markdown",
   "metadata": {
    "slideshow": {
     "slide_type": "slide"
    }
   },
   "source": [
    "# Non-Linear Boundaries with SVMs Kernel Trick\n",
    "\n",
    "- **Kernel Trick**: Map data to a higher dimensional space and find linear boundary there\n",
    "<br>\n",
    "<br>\n",
    "<div align=\"center\"><img src=\"images/svm_kernel_trick.png\" width=\"800px\"></div>\n",
    "    \n",
    "From PML"
   ]
  },
  {
   "cell_type": "markdown",
   "metadata": {
    "slideshow": {
     "slide_type": "slide"
    }
   },
   "source": [
    "# SVM Kernel Trick with RBF Kernel"
   ]
  },
  {
   "cell_type": "markdown",
   "metadata": {
    "slideshow": {
     "slide_type": "fragment"
    }
   },
   "source": [
    "- RBF (Radial-Basis Function) kernel"
   ]
  },
  {
   "cell_type": "code",
   "execution_count": 38,
   "metadata": {
    "cell_style": "center",
    "slideshow": {
     "slide_type": "fragment"
    }
   },
   "outputs": [
    {
     "data": {
      "image/png": "[encoded data removed]",
      "text/plain": [
       "<Figure size 432x432 with 1 Axes>"
      ]
     },
     "metadata": {
      "needs_background": "light"
     },
     "output_type": "display_data"
    }
   ],
   "source": [
    "svm_rbf = SVC(kernel='rbf')\n",
    "svm_rbf.fit(X,y);\n",
    "\n",
    "fig,ax = plt.subplots(1,1,figsize=(6,6))\n",
    "plot_decision_regions(X.values, y.values, clf=svm_rbf);\n",
    "plt.xlabel(X.columns[0]); plt.ylabel(X.columns[1]);"
   ]
  },
  {
   "cell_type": "markdown",
   "metadata": {
    "slideshow": {
     "slide_type": "slide"
    }
   },
   "source": [
    "# Multiclass/Multilabel Problems with Linear Models\n",
    "<br>\n",
    "\n",
    "\n",
    "- **One Vs Rest:** train one model per class (ex: 0 vs 1&2, 1 vs 0&2, 2 vs 0&3)"
   ]
  },
  {
   "cell_type": "code",
   "execution_count": 39,
   "metadata": {
    "slideshow": {
     "slide_type": "fragment"
    }
   },
   "outputs": [
    {
     "data": {
      "image/png": "[encoded data removed]",
      "text/plain": [
       "<Figure size 432x432 with 1 Axes>"
      ]
     },
     "metadata": {
      "needs_background": "light"
     },
     "output_type": "display_data"
    }
   ],
   "source": [
    "X_multiclass = df_wine[['proline','hue']]\n",
    "y_multiclass = df_wine['class']\n",
    "\n",
    "svm_rbf_mc = SVC(kernel='linear')\n",
    "svm_rbf_mc.fit(X_multiclass,y_multiclass);\n",
    "\n",
    "fig,ax = plt.subplots(1,1,figsize=(6,6))\n",
    "plot_decision_regions(X_multiclass.values, y_multiclass.values, clf=svm_rbf_mc);\n",
    "plt.xlabel(X.columns[0]); plt.ylabel(X.columns[1]);"
   ]
  },
  {
   "cell_type": "markdown",
   "metadata": {
    "slideshow": {
     "slide_type": "slide"
    }
   },
   "source": [
    "<br>\n",
    "<br>\n",
    "\n",
    "# <center>Questions re Classification with Linear Models?</center>\n",
    "<br>\n",
    "<br>"
   ]
  },
  {
   "cell_type": "markdown",
   "metadata": {
    "slideshow": {
     "slide_type": "slide"
    }
   },
   "source": [
    "# Appendix"
   ]
  },
  {
   "cell_type": "markdown",
   "metadata": {
    "slideshow": {
     "slide_type": "slide"
    }
   },
   "source": [
    "# Perceptron: Early Neuron Model\n",
    "<br>\n",
    "<br>\n",
    "\n",
    "<div align=\"center\"><img src=\"images/perceptron.png\"></div>\n",
    "\n",
    "From PML"
   ]
  },
  {
   "cell_type": "markdown",
   "metadata": {
    "slideshow": {
     "slide_type": "slide"
    }
   },
   "source": [
    "# Perceptron to Adaline\n",
    "<br>\n",
    "<br>\n",
    "\n",
    "<div align=\"center\"><img src=\"images/perceptron_to_adaline.png\" width=\"1000px\"></div>\n",
    "From PML"
   ]
  },
  {
   "cell_type": "markdown",
   "metadata": {
    "slideshow": {
     "slide_type": "slide"
    }
   },
   "source": [
    "# Adaline to Linear Regression\n",
    "<br>\n",
    "<br>\n",
    "\n",
    "<div align=\"center\"><img src=\"images/adaline_to_logisticregression.png\" width=\"1000px\"></div>\n",
    "From PML"
   ]
  }
 ],
 "metadata": {
  "celltoolbar": "Slideshow",
  "kernelspec": {
   "display_name": "eods-f20",
   "language": "python",
   "name": "eods-f20"
  },
  "language_info": {
   "codemirror_mode": {
    "name": "ipython",
    "version": 3
   },
   "file_extension": ".py",
   "mimetype": "text/x-python",
   "name": "python",
   "nbconvert_exporter": "python",
   "pygments_lexer": "ipython3",
   "version": "3.8.5"
  }
 },
 "nbformat": 4,
 "nbformat_minor": 4
}
