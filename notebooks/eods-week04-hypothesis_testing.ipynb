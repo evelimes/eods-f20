{
 "cells": [
  {
   "cell_type": "markdown",
   "metadata": {
    "slideshow": {
     "slide_type": "slide"
    }
   },
   "source": [
    "## <center>Elements Of Data Science - F2020</center>\n",
    "# <center>Week 4: Hypothesis Testing<center>\n",
    "### <center>10/5/2020</center>"
   ]
  },
  {
   "cell_type": "markdown",
   "metadata": {
    "slideshow": {
     "slide_type": "slide"
    }
   },
   "source": [
    "# Tools So Far (a common first cell)"
   ]
  },
  {
   "cell_type": "code",
   "execution_count": 1,
   "metadata": {
    "slideshow": {
     "slide_type": "fragment"
    }
   },
   "outputs": [],
   "source": [
    "import numpy as np\n",
    "import pandas as pd\n",
    "import matplotlib.pyplot as plt\n",
    "import seaborn as sns\n",
    "\n",
    "sns.set_style('darkgrid')\n",
    "%matplotlib inline"
   ]
  },
  {
   "cell_type": "markdown",
   "metadata": {
    "slideshow": {
     "slide_type": "slide"
    }
   },
   "source": [
    "# TODOs\n",
    "\n",
    "- Readings\n",
    " - PDSH Chap 5 up to but not including Hyperparameters and Model Evaluation\n",
    " - PDSH Chap 5 In Depth: Linear Regression\n",
    " - PDSH Chap 5 In Depth: Support Vector Machines\n",
    " - PDSH Chap 5 In Depth: Decision Trees and Random Forests\n",
    " - Recommended PML Chap 3\n",
    " - Optional PML Chap 2\n",
    "\n",
    "- Quiz 4\n",
    "\n",
    "- HW1, out next few days, due 2 weeks from release via gradescope\n",
    "\n",
    "- Midterm: Last week of October, take-home, open-book"
   ]
  },
  {
   "cell_type": "markdown",
   "metadata": {
    "slideshow": {
     "slide_type": "slide"
    }
   },
   "source": [
    "# Additional Resources for Hypothesis Testing\n",
    "\n",
    "\n",
    "- Statistical Rules of Thumb, Gerald van Belle [Chapter 2 online](http://www.vanbelle.org/chapters/webchapter2.pdf)\n",
    "\n",
    "\n",
    "- [“The 2019 ASA Guide to P-values and Statistical Significance: Don’t Say What You Don’t Mean” (Some Recommendations)(ii)](https://errorstatistics.com/2019/06/17/the-2019-asa-guide-to-p-values-and-statistical-significance-dont-say-what-you-dont-mean-some-recommendations/)\n"
   ]
  },
  {
   "cell_type": "markdown",
   "metadata": {
    "slideshow": {
     "slide_type": "slide"
    }
   },
   "source": [
    "# Today\n",
    "\n",
    "- Hypothesis Testing and MAB"
   ]
  },
  {
   "cell_type": "markdown",
   "metadata": {
    "slideshow": {
     "slide_type": "slide"
    }
   },
   "source": [
    "<br>\n",
    "<br>\n",
    "\n",
    "# <center>Questions?</center>\n",
    "<br>\n",
    "<br>"
   ]
  },
  {
   "cell_type": "markdown",
   "metadata": {
    "slideshow": {
     "slide_type": "slide"
    }
   },
   "source": [
    "# Hypothesis Testing\n",
    "\n",
    "- Random Sampling\n",
    "- Confidence Intervals\n",
    "- A/B Tests\n",
    "- Hypothesis Testing\n",
    "- Permutation Tests\n",
    "- p-values\n",
    "- Calculating Power and Number of Observations Needed\n",
    "- Multi-Armed Bandit"
   ]
  },
  {
   "cell_type": "markdown",
   "metadata": {
    "slideshow": {
     "slide_type": "slide"
    }
   },
   "source": [
    "# Questions and More Questions\n",
    "<br>\n",
    "\n",
    "- Have web conversions gone up?\n",
    "\n",
    "- Have stock prices changed?\n",
    "\n",
    "- Which ad generates more sales?\n",
    "\n",
    "- Which headline generates more clicks?\n",
    "\n",
    "- Did the number of \"likes\" change?"
   ]
  },
  {
   "cell_type": "markdown",
   "metadata": {
    "slideshow": {
     "slide_type": "slide"
    }
   },
   "source": [
    "# Scipy\n",
    "\n",
    "- Routines for numerical integration, interpolation, optimization, linear algebra, and **statistics**.\n",
    "<br>\n",
    "<br>\n",
    "\n",
    "<div align=\"center\"><img src=\"https://www.fullstackpython.com/img/logos/scipy.png\" width=\"800px\"></div>"
   ]
  },
  {
   "cell_type": "code",
   "execution_count": 2,
   "metadata": {
    "slideshow": {
     "slide_type": "fragment"
    }
   },
   "outputs": [],
   "source": [
    "import scipy as sp"
   ]
  },
  {
   "cell_type": "markdown",
   "metadata": {
    "slideshow": {
     "slide_type": "slide"
    }
   },
   "source": [
    "# Mini Probability Review\n",
    "<br>\n",
    "\n",
    "- **Random Variable**\n",
    " - takes values from an associated probability distribution\n",
    "\n",
    "- **Distribution**\n",
    " - describes probability of values of a Random Variable\n",
    "\n",
    "- **$P(x)$: Probability**\n",
    " - probability of seeing $x$, takes value in [0,1]\n",
    " - Ex: Probability of getting heads on a coin toss\n",
    "\n",
    "- **$P(x\\mid y)$: Conditional Probability**\n",
    " - probability of seeing $x$, given that some $y$ is true\n",
    " - Ex: Probability of getting heads on a coin toss given that coin is fair\n",
    " \n",
    "so much more! [See Data Science From Scratch](https://ezproxy.cul.columbia.edu/login?qurl=https%3A%2F%2Fsearch.ebscohost.com%2Flogin.aspx%3Fdirect%3Dtrue%26db%3Dnlebk%26AN%3D979529%26site%3Dehost-live%26scope%3Dsite&ebv=EK&ppid=Page-__-54)"
   ]
  },
  {
   "cell_type": "markdown",
   "metadata": {
    "slideshow": {
     "slide_type": "slide"
    }
   },
   "source": [
    "# Population Distributions and Sampling\n",
    "<br>\n",
    "\n",
    "- **The World :: Ground Truth**\n",
    " - Ex: The length of taxi rides\n",
    "\n",
    "- **Our Data :: An Experiment**\n",
    " - Ex: The length of taxi rides we saw in Jan 2017"
   ]
  },
  {
   "cell_type": "markdown",
   "metadata": {
    "slideshow": {
     "slide_type": "slide"
    }
   },
   "source": [
    "# Population Dists. and Sampling\n",
    "<br>\n",
    "\n",
    "- **Population Distribution:** The actual distribution out in world\n",
    " - Ex: Actual distribution of taxi trip length\n",
    "\n",
    "\n",
    "- **Random Sample:** Our observations of the true population distrution\n",
    " - We hope this does not differ systematically from the true distribution\n",
    " - Ex: The taxi trip lengths recorded in Jan 2017\n",
    "\n",
    "\n",
    "- **Sample Size (n):** The number of observations, the larger the better\n",
    " - Ex: We saw 1,000 trips"
   ]
  },
  {
   "cell_type": "markdown",
   "metadata": {
    "slideshow": {
     "slide_type": "slide"
    }
   },
   "source": [
    "# Population Dists and Sampling\n",
    "<br>\n",
    "\n",
    "\n",
    "- **Population Mean vs. Sample Mean:** $\\mu$ vs. $\\bar{x}$\n",
    " - Ex: The true mean trip length vs the one we observed\n",
    "\n",
    "\n",
    "- **Population Std. Dev. vs Sample Std. Dev.:** $\\sigma$ vs. $s$\n",
    " - Ex: The true spread of trip length vs the one we observed\n",
    " \n",
    " \n",
    "- **Sample Statistic:** eg. mean, median, standard deviation\n",
    " - Ex: We're interested in mean trip length\n",
    "\n",
    "\n",
    "- **Sampling Distribution:** Distribution of the sample statistic\n",
    " - Ex: How is mean trip length distributed if we were to repeat our experiment many times? "
   ]
  },
  {
   "cell_type": "markdown",
   "metadata": {
    "slideshow": {
     "slide_type": "slide"
    }
   },
   "source": [
    "# Things To Know First\n",
    "<br>\n",
    "\n",
    "\n",
    "- sample size\n",
    "\n",
    "\n",
    "- shape (skewed?, multimodal?)\n",
    "\n",
    "\n",
    "- location (central tendencies)\n",
    "\n",
    "\n",
    "- spread"
   ]
  },
  {
   "cell_type": "markdown",
   "metadata": {
    "slideshow": {
     "slide_type": "slide"
    }
   },
   "source": [
    "# What can we say about the length of an average taxi trip in Jan 2017?"
   ]
  },
  {
   "cell_type": "code",
   "execution_count": 3,
   "metadata": {
    "slideshow": {
     "slide_type": "fragment"
    }
   },
   "outputs": [
    {
     "name": "stdout",
     "output_type": "stream",
     "text": [
      "(1000, 6)\n"
     ]
    }
   ],
   "source": [
    "df = pd.read_csv('../data/yellowcab_demo.csv',parse_dates=['pickup_datetime','dropoff_datetime'])\n",
    "print(df.shape)"
   ]
  },
  {
   "cell_type": "markdown",
   "metadata": {
    "slideshow": {
     "slide_type": "slide"
    }
   },
   "source": [
    "# Sampling From the Population"
   ]
  },
  {
   "cell_type": "code",
   "execution_count": 4,
   "metadata": {
    "slideshow": {
     "slide_type": "fragment"
    }
   },
   "outputs": [
    {
     "data": {
      "text/plain": [
       "count    50.000000\n",
       "mean      2.141800\n",
       "std       2.563404\n",
       "min       0.300000\n",
       "25%       0.910000\n",
       "50%       1.600000\n",
       "75%       2.187500\n",
       "max      17.300000\n",
       "Name: trip_distance, dtype: float64"
      ]
     },
     "execution_count": 4,
     "metadata": {},
     "output_type": "execute_result"
    }
   ],
   "source": [
    "sample = df.trip_distance.sample(n=50,             # our sample size\n",
    "                                 random_state=123, # needed for reproducability\n",
    "                                 replace=False     # sample without replacement    \n",
    "                                )\n",
    "sample.describe()"
   ]
  },
  {
   "cell_type": "markdown",
   "metadata": {
    "slideshow": {
     "slide_type": "slide"
    }
   },
   "source": [
    "# Plot our Sample"
   ]
  },
  {
   "cell_type": "code",
   "execution_count": 5,
   "metadata": {
    "slideshow": {
     "slide_type": "fragment"
    }
   },
   "outputs": [
    {
     "data": {
      "image/png": "[encoded data removed]",
      "text/plain": [
       "<Figure size 864x288 with 2 Axes>"
      ]
     },
     "metadata": {
      "needs_background": "light"
     },
     "output_type": "display_data"
    }
   ],
   "source": [
    "fig,ax = plt.subplots(1,2,figsize=(12,4))\n",
    "sns.histplot(x=sample, ax=ax[0]);\n",
    "sns.boxplot(x=sample, ax=ax[1]);"
   ]
  },
  {
   "cell_type": "markdown",
   "metadata": {
    "slideshow": {
     "slide_type": "slide"
    }
   },
   "source": [
    "# Define the Sample Statistic"
   ]
  },
  {
   "cell_type": "code",
   "execution_count": 6,
   "metadata": {
    "slideshow": {
     "slide_type": "fragment"
    }
   },
   "outputs": [
    {
     "name": "stdout",
     "output_type": "stream",
     "text": [
      "sample mean: 2.14\n"
     ]
    }
   ],
   "source": [
    "xbar = sample.mean()\n",
    "print(f'sample mean: {xbar:0.2f}')"
   ]
  },
  {
   "cell_type": "markdown",
   "metadata": {
    "slideshow": {
     "slide_type": "fragment"
    }
   },
   "source": [
    "- How good of an approximation is our sample statistic?\n",
    "\n",
    "- Let's take more samples!"
   ]
  },
  {
   "cell_type": "markdown",
   "metadata": {
    "slideshow": {
     "slide_type": "slide"
    }
   },
   "source": [
    "# Generating Samples"
   ]
  },
  {
   "cell_type": "code",
   "execution_count": 7,
   "metadata": {
    "slideshow": {
     "slide_type": "fragment"
    }
   },
   "outputs": [],
   "source": [
    "sample_means = []\n",
    "for i in range(1000):\n",
    "    sample_mean = df.trip_distance.sample(n=50,random_state=i).mean()\n",
    "    sample_means.append(sample_mean)"
   ]
  },
  {
   "cell_type": "code",
   "execution_count": 8,
   "metadata": {
    "slideshow": {
     "slide_type": "fragment"
    }
   },
   "outputs": [
    {
     "data": {
      "image/png": "[encoded data removed]",
      "text/plain": [
       "<Figure size 432x288 with 1 Axes>"
      ]
     },
     "metadata": {
      "needs_background": "light"
     },
     "output_type": "display_data"
    }
   ],
   "source": [
    "# sampling distribution with original statistic\n",
    "ax = sns.histplot(x=sample_means)\n",
    "ax.set_xlabel('sample_means');\n",
    "ax.set_ylabel('frequency');\n",
    "ax.axvline(xbar,color='red');"
   ]
  },
  {
   "cell_type": "markdown",
   "metadata": {
    "slideshow": {
     "slide_type": "slide"
    }
   },
   "source": [
    "# Central Limit Theorem"
   ]
  },
  {
   "cell_type": "markdown",
   "metadata": {
    "slideshow": {
     "slide_type": "fragment"
    }
   },
   "source": [
    "If all samples are randomly drawn from the same sample population:\n",
    "\n",
    "For reasonably large samples (usually $n$≥30), the distribution of sample mean $\\bar{x}$ is normal regardless of the distribution of $X$.\n",
    "\n",
    "The sampling distribution of $\\bar{x}$ becomes approximately normal as the the sample size $n$ gets large.\n",
    "\n",
    "Ex: $X$ = trip_distance, $\\bar{x}$ = mean trip_distance, $n$ = 50"
   ]
  },
  {
   "cell_type": "markdown",
   "metadata": {
    "slideshow": {
     "slide_type": "slide"
    }
   },
   "source": [
    "# What is Normal?"
   ]
  },
  {
   "cell_type": "markdown",
   "metadata": {
    "slideshow": {
     "slide_type": "fragment"
    }
   },
   "source": [
    "distribution defined by mean ($\\mu$) and standard deviation ($\\sigma$)\n",
    "\n",
    "\n",
    "$N(x;\\mu,\\sigma) = \\frac{1}{\\sqrt{2\\pi}\\sigma}e^{-\\frac{1}{2\\sigma}{(x-\\mu)}^2}$\n",
    "\n",
    "\n",
    "**PDF (Probability Density Function):** \n",
    "- function of a continuous random variable that provides a relative likelihood of seeing a particular sample of a random variable."
   ]
  },
  {
   "cell_type": "markdown",
   "metadata": {
    "slideshow": {
     "slide_type": "slide"
    }
   },
   "source": [
    "# Properties of a Normal Distribution\n",
    "<br>\n",
    "<br>\n",
    "\n",
    "<div align=\"center\"><img src=\"https://miro.medium.com/max/700/1*IZ2II2HYKeoMrdLU5jW6Dw.png\" width=\"1000\"></div>\n",
    "\n",
    "https://towardsdatascience.com/understanding-the-68-95-99-7-rule-for-a-normal-distribution-b7b7cbf760c2"
   ]
  },
  {
   "cell_type": "markdown",
   "metadata": {
    "slideshow": {
     "slide_type": "slide"
    }
   },
   "source": [
    "# Plotting a Standard Normal Distribution\n",
    "\n",
    "- **Standard Normal:** μ=0, σ=1\n",
    "- Often referred to as $Z$"
   ]
  },
  {
   "cell_type": "code",
   "execution_count": 9,
   "metadata": {
    "slideshow": {
     "slide_type": "fragment"
    }
   },
   "outputs": [
    {
     "data": {
      "image/png": "[encoded data removed]",
      "text/plain": [
       "<Figure size 864x432 with 1 Axes>"
      ]
     },
     "metadata": {
      "needs_background": "light"
     },
     "output_type": "display_data"
    }
   ],
   "source": [
    "x = np.random.normal(0,1,size=100_000)                       # generate many random samples\n",
    "\n",
    "fig,ax = plt.subplots(1,1,figsize=(12,6))\n",
    "ax = sns.histplot(x=x,stat='density',kde=True);              # using density to normalize bin counts\n",
    "ax.set_xlabel('$x$');ax.set_ylabel('$N(x;\\mu=0,\\sigma=1)$'); # using latex in labels\n",
    "ax.vlines([-1,1],0,sp.stats.norm.pdf(1), colors='k');        # 1 standard deviation\n",
    "ax.vlines([-2,2],0,sp.stats.norm.pdf(2), colors='r');        # 2 standard deviations"
   ]
  },
  {
   "cell_type": "markdown",
   "metadata": {
    "slideshow": {
     "slide_type": "slide"
    }
   },
   "source": [
    "# Confidence Intervals\n",
    "<br>\n",
    "\n",
    "Typically we only have one sample from the population (set of experimental results, set of survey results, etc.)"
   ]
  },
  {
   "cell_type": "code",
   "execution_count": 10,
   "metadata": {
    "slideshow": {
     "slide_type": "fragment"
    }
   },
   "outputs": [
    {
     "data": {
      "text/plain": [
       "1000"
      ]
     },
     "execution_count": 10,
     "metadata": {},
     "output_type": "execute_result"
    }
   ],
   "source": [
    "# treat all observations as our sample\n",
    "n = len(df.trip_distance)\n",
    "n"
   ]
  },
  {
   "cell_type": "code",
   "execution_count": 11,
   "metadata": {
    "slideshow": {
     "slide_type": "fragment"
    }
   },
   "outputs": [
    {
     "name": "stdout",
     "output_type": "stream",
     "text": [
      "sample mean: 2.8800\n"
     ]
    }
   ],
   "source": [
    "x_bar = df.trip_distance.mean()\n",
    "print(f'sample mean: {x_bar:0.4f}')"
   ]
  },
  {
   "cell_type": "markdown",
   "metadata": {
    "slideshow": {
     "slide_type": "fragment"
    }
   },
   "source": [
    "- What is the spread of our sample statistic?\n",
    "- What other values would it be reasonable to observe?"
   ]
  },
  {
   "cell_type": "markdown",
   "metadata": {
    "slideshow": {
     "slide_type": "slide"
    }
   },
   "source": [
    "# Plotting Confidence Intervals with Seaborn"
   ]
  },
  {
   "cell_type": "code",
   "execution_count": 12,
   "metadata": {
    "slideshow": {
     "slide_type": "fragment"
    }
   },
   "outputs": [
    {
     "data": {
      "image/png": "[encoded data removed]",
      "text/plain": [
       "<Figure size 864x432 with 1 Axes>"
      ]
     },
     "metadata": {
      "needs_background": "light"
     },
     "output_type": "display_data"
    }
   ],
   "source": [
    "fig,ax = plt.subplots(1,1,figsize=(12,6))\n",
    "\n",
    "sns.barplot(x=df.trip_distance,\n",
    "            estimator=np.mean, # default\n",
    "            ci=95,              # 95% CI\n",
    "            color='c',\n",
    "           );"
   ]
  },
  {
   "cell_type": "markdown",
   "metadata": {
    "slideshow": {
     "slide_type": "fragment"
    }
   },
   "source": [
    "- How are these confidence intervals generated?\n",
    "- What does a 95% confidence interval mean?"
   ]
  },
  {
   "cell_type": "markdown",
   "metadata": {
    "slideshow": {
     "slide_type": "slide"
    }
   },
   "source": [
    "# Generate Confidence Intervals\n",
    "<br>\n",
    "\n",
    "**Bootstrapping:** sampling with replacement\n",
    "\n",
    "**Bootstrap Confidence Interval:** create confidence interval using bootstrap samples"
   ]
  },
  {
   "cell_type": "markdown",
   "metadata": {
    "slideshow": {
     "slide_type": "fragment"
    }
   },
   "source": [
    "1. draw a random sample of size $n$ from the data\n",
    "1. record the sample statistic from this random sample\n",
    "1. repeat 1 and 2 many times\n",
    "1. for an $x$% CI, trim off $\\frac{1}{2}\\left(1−\\frac{x}{100}\\right)$ of the data from both ends\n",
    "1. those trim points are the endpoints of the the $x$% bootstrap CI"
   ]
  },
  {
   "cell_type": "markdown",
   "metadata": {
    "slideshow": {
     "slide_type": "slide"
    }
   },
   "source": [
    "# 1. & 2. Draw a Random Sample and Record Statistic\n",
    "<br>\n"
   ]
  },
  {
   "cell_type": "code",
   "execution_count": 13,
   "metadata": {
    "slideshow": {
     "slide_type": "fragment"
    }
   },
   "outputs": [],
   "source": [
    "# 1. draw a random sample with replacement\n",
    "random_sample = df.trip_distance.sample(n=len(df.trip_distance), # same size as number of observations\n",
    "                                        replace=True,            # sample with replacement\n",
    "                                        random_state=123         # for reproducability\n",
    "                                       )"
   ]
  },
  {
   "cell_type": "code",
   "execution_count": 14,
   "metadata": {
    "slideshow": {
     "slide_type": "fragment"
    }
   },
   "outputs": [],
   "source": [
    "# 2. record sample statistic\n",
    "sample_means = []\n",
    "sample_means.append(random_sample.mean())"
   ]
  },
  {
   "cell_type": "markdown",
   "metadata": {
    "slideshow": {
     "slide_type": "slide"
    }
   },
   "source": [
    "# 3. Repeat Many Times"
   ]
  },
  {
   "cell_type": "code",
   "execution_count": 15,
   "metadata": {
    "slideshow": {
     "slide_type": "fragment"
    }
   },
   "outputs": [],
   "source": [
    "# 3. repeat 1 and 2 many times\n",
    "num_iterations = 1000\n",
    "sample_means = []\n",
    "\n",
    "for i in range(num_iterations):\n",
    "    # 1. draw a random sample of size *n* from the data\n",
    "    random_sample = df.trip_distance.sample(df.trip_distance.shape[0],\n",
    "                                            replace=True,\n",
    "                                            random_state=i  # for reproducability\n",
    "                                           )\n",
    "    # 2. record the sample statistic from this random sample\n",
    "    sample_means.append(random_sample.mean())\n",
    "    \n",
    "# convert into a numpy array\n",
    "sample_means = np.array(sample_means)"
   ]
  },
  {
   "cell_type": "markdown",
   "metadata": {
    "slideshow": {
     "slide_type": "slide"
    }
   },
   "source": [
    "# Distribution of Sample Means?"
   ]
  },
  {
   "cell_type": "code",
   "execution_count": 16,
   "metadata": {
    "slideshow": {
     "slide_type": "fragment"
    }
   },
   "outputs": [
    {
     "data": {
      "image/png": "[encoded data removed]",
      "text/plain": [
       "<Figure size 864x576 with 1 Axes>"
      ]
     },
     "metadata": {
      "needs_background": "light"
     },
     "output_type": "display_data"
    }
   ],
   "source": [
    "fig,ax = plt.subplots(1,1,figsize=(12,8))\n",
    "sns.histplot(x=sample_means);"
   ]
  },
  {
   "cell_type": "markdown",
   "metadata": {
    "slideshow": {
     "slide_type": "fragment"
    }
   },
   "source": [
    "- Between what two values do 95% of these samples fall?"
   ]
  },
  {
   "cell_type": "markdown",
   "metadata": {
    "slideshow": {
     "slide_type": "slide"
    }
   },
   "source": [
    "# 4 & 5 Find CI Endpoints\n",
    "<br>\n",
    "\n",
    "\n"
   ]
  },
  {
   "cell_type": "code",
   "execution_count": 17,
   "metadata": {
    "slideshow": {
     "slide_type": "fragment"
    }
   },
   "outputs": [
    {
     "data": {
      "text/plain": [
       "25"
      ]
     },
     "execution_count": 17,
     "metadata": {},
     "output_type": "execute_result"
    }
   ],
   "source": [
    "# 4. For a 95% conf. int., trim off .5*(1-(95/100)) of the data from both ends\n",
    "\n",
    "# calculate where to trim\n",
    "trim = .5*(1-.95) * num_iterations\n",
    "\n",
    "# find the closest integer\n",
    "trim = int(np.round(trim))\n",
    "trim"
   ]
  },
  {
   "cell_type": "code",
   "execution_count": 18,
   "metadata": {
    "slideshow": {
     "slide_type": "fragment"
    }
   },
   "outputs": [
    {
     "data": {
      "text/plain": [
       "array([2.66425, 3.1133 ])"
      ]
     },
     "execution_count": 18,
     "metadata": {},
     "output_type": "execute_result"
    }
   ],
   "source": [
    "# for 1000 iterations and a 95% CI, we want to find the 25th value and (1000-25)th value\n",
    "\n",
    "# 5. those trim points are the endpoints of the the x% Bootstrap CI\n",
    "\n",
    "ci = np.sort(sample_means)[[trim,-trim]] # sort the array!\n",
    "ci"
   ]
  },
  {
   "cell_type": "markdown",
   "metadata": {
    "slideshow": {
     "slide_type": "slide"
    }
   },
   "source": [
    "# Plotting Distribution of Sample Means With CIs"
   ]
  },
  {
   "cell_type": "code",
   "execution_count": 19,
   "metadata": {
    "slideshow": {
     "slide_type": "fragment"
    }
   },
   "outputs": [
    {
     "data": {
      "image/png": "[encoded data removed]",
      "text/plain": [
       "<Figure size 864x576 with 1 Axes>"
      ]
     },
     "metadata": {
      "needs_background": "light"
     },
     "output_type": "display_data"
    }
   ],
   "source": [
    "fig,ax = plt.subplots(1,1,figsize=(12,8))\n",
    "ax = sns.histplot(sample_means)\n",
    "\n",
    "ylim = ax.get_ylim()\n",
    "ax.set_ylim(ylim)\n",
    "\n",
    "ax.axvline(df.trip_distance.mean(), color='r');\n",
    "\n",
    "ax.vlines(ci, *ylim, color='b')\n",
    "ax.set_xlabel('bootstrap sample means');\n",
    "ax.set_ylabel('frequency');"
   ]
  },
  {
   "cell_type": "markdown",
   "metadata": {
    "slideshow": {
     "slide_type": "slide"
    }
   },
   "source": [
    "# Interpreting CIs\n",
    "<br>\n",
    "\n",
    "- Tells us something about the variablity of this statistic.\n",
    "\n",
    "\n",
    "- Tells us how confident we should be that our parameter lies in the interval.\n",
    "\n",
    "\n",
    "- **Does NOT tell us:** \"the probability that the true value lies within that interval\".\n",
    "\n",
    "\n",
    "> If confidence intervals are constructed using a given confidence level from an infinite number of independent sample statistics, the proportion of those intervals that contain the true value of the parameter will be equal to the confidence level."
   ]
  },
  {
   "cell_type": "markdown",
   "metadata": {
    "slideshow": {
     "slide_type": "slide"
    }
   },
   "source": [
    "<br>\n",
    "<br>\n",
    "\n",
    "# <center>Questions re CIs?</center>\n",
    "<br>\n",
    "<br>\n"
   ]
  },
  {
   "cell_type": "markdown",
   "metadata": {
    "slideshow": {
     "slide_type": "slide"
    }
   },
   "source": [
    "# A/B Tests\n",
    "<br>\n",
    "\n",
    "\n",
    "- Do one of two treatments produce superior results?\n",
    " - testing two prices to determine which generates more profit\n",
    " - testing two web headlines to determine which produces more clicks\n",
    " - testing two advertisements to see which produces more conversions\n",
    "\n",
    "- Often Used Test Statistics\n",
    " - difference in means\n",
    " - difference in counts"
   ]
  },
  {
   "cell_type": "markdown",
   "metadata": {
    "slideshow": {
     "slide_type": "slide"
    }
   },
   "source": [
    "# Hypothesis Testing\n",
    "<br>\n",
    "\n",
    "- Ex: Does one webpage lead to more sales than another?\n",
    "\n",
    "\n",
    "- **Null Hypothesis:** $H_0$\n",
    " - the thing we're observing is happening due to random chance\n",
    " - there are no differences between two groups\n",
    " - Ex: A difference in sales is just random\n",
    "\n",
    "\n",
    "- **Alternative Hypothesis:** $H_1$\n",
    " - the thing we're observing is happening not due to random chance\n",
    " - there is a difference between two groups\n",
    " - Ex: A difference in sales is not just random\n",
    "\n",
    "\n",
    "- Experiment: given data, do we **accept or reject** $H_0$?\n",
    " - Ex: if we collect sales can we say that a difference between the two pages isn't random?"
   ]
  },
  {
   "cell_type": "markdown",
   "metadata": {
    "slideshow": {
     "slide_type": "slide"
    }
   },
   "source": [
    "# Errors in Hypothesis Tests\n",
    "<br>\n",
    "<br>\n",
    "\n",
    "<div align=\"center\"><img src=\"https://www.gilliganondata.com/wp-content/uploads/2009/08/TypeI_TypeII1.JPG\" width=\"800px\"></div>\n",
    "\n",
    "https://www.gilliganondata.com/wp-content/uploads/2009/08/TypeI_TypeII1.JPG"
   ]
  },
  {
   "cell_type": "markdown",
   "metadata": {
    "slideshow": {
     "slide_type": "slide"
    }
   },
   "source": [
    "# Errors in Hypothesis Tests\n",
    "<br>\n",
    "<br>\n",
    "\n",
    "<div align=\"center\"><img src=\"https://flowingdata.com/wp-content/uploads/2014/05/Type-I-and-II-errors1-620x465.jpg\" width=\"500px\"></div>\n",
    "\n",
    "https://flowingdata.com/wp-content/uploads/2014/05/Type-I-and-II-errors1-620x465.jpg"
   ]
  },
  {
   "cell_type": "markdown",
   "metadata": {
    "slideshow": {
     "slide_type": "slide"
    }
   },
   "source": [
    "# Significance and Power\n",
    "<br>\n",
    "<br>"
   ]
  },
  {
   "cell_type": "markdown",
   "metadata": {
    "slideshow": {
     "slide_type": "fragment"
    }
   },
   "source": [
    "- $P\\left(\\text{reject } H_0 \\mid H_0 \\text{ true}\\right)$ = **Significance** of test (Type I Error)\n",
    " - Probablity of saying **things aren't by chance when they are**\n",
    " - Ex: Saying Ad A leads to more sales, even though there's no difference\n",
    "<br>\n",
    "<br>"
   ]
  },
  {
   "cell_type": "markdown",
   "metadata": {
    "slideshow": {
     "slide_type": "fragment"
    }
   },
   "source": [
    "- $P\\left(\\text{reject } H_0 \\mid H_1 \\text{ true}\\right)$ = **Power** of test (1-Type II Error)\n",
    " - Probability of saying **things aren't by chance when they aren't**\n",
    " - Ex: Saying here's no difference between ads, even though there is"
   ]
  },
  {
   "cell_type": "markdown",
   "metadata": {
    "slideshow": {
     "slide_type": "slide"
    }
   },
   "source": [
    "# Ex: Webpages and Sales\n",
    "<br>\n",
    "\n",
    "- Question: Which webpage leads to more sales?\n",
    "\n",
    "- Potential Issue: what if sales are large but infrequent?\n",
    "\n",
    "- **Proxy Variable:** stand in for true value of interest\n",
    " - Ex: Assume 'time on page' is correlated with sales"
   ]
  },
  {
   "cell_type": "code",
   "execution_count": 20,
   "metadata": {
    "slideshow": {
     "slide_type": "fragment"
    }
   },
   "outputs": [
    {
     "name": "stdout",
     "output_type": "stream",
     "text": [
      "(36, 2)\n"
     ]
    },
    {
     "data": {
      "text/html": [
       "<div>\n",
       "<style scoped>\n",
       "    .dataframe tbody tr th:only-of-type {\n",
       "        vertical-align: middle;\n",
       "    }\n",
       "\n",
       "    .dataframe tbody tr th {\n",
       "        vertical-align: top;\n",
       "    }\n",
       "\n",
       "    .dataframe thead th {\n",
       "        text-align: right;\n",
       "    }\n",
       "</style>\n",
       "<table border=\"1\" class=\"dataframe\">\n",
       "  <thead>\n",
       "    <tr style=\"text-align: right;\">\n",
       "      <th></th>\n",
       "      <th>Page</th>\n",
       "      <th>Time</th>\n",
       "    </tr>\n",
       "  </thead>\n",
       "  <tbody>\n",
       "    <tr>\n",
       "      <th>0</th>\n",
       "      <td>Page A</td>\n",
       "      <td>12.6</td>\n",
       "    </tr>\n",
       "    <tr>\n",
       "      <th>1</th>\n",
       "      <td>Page B</td>\n",
       "      <td>151.8</td>\n",
       "    </tr>\n",
       "    <tr>\n",
       "      <th>2</th>\n",
       "      <td>Page A</td>\n",
       "      <td>21.0</td>\n",
       "    </tr>\n",
       "  </tbody>\n",
       "</table>\n",
       "</div>"
      ],
      "text/plain": [
       "     Page   Time\n",
       "0  Page A   12.6\n",
       "1  Page B  151.8\n",
       "2  Page A   21.0"
      ]
     },
     "execution_count": 20,
     "metadata": {},
     "output_type": "execute_result"
    }
   ],
   "source": [
    "session_times = pd.read_csv('../data/web_page_data.csv')\n",
    "print(session_times.shape)\n",
    "\n",
    "session_times.head(3)"
   ]
  },
  {
   "cell_type": "markdown",
   "metadata": {
    "slideshow": {
     "slide_type": "slide"
    }
   },
   "source": [
    "# Ex: Webpages and Sales"
   ]
  },
  {
   "cell_type": "code",
   "execution_count": 21,
   "metadata": {
    "slideshow": {
     "slide_type": "fragment"
    }
   },
   "outputs": [
    {
     "data": {
      "image/png": "[encoded data removed]",
      "text/plain": [
       "<Figure size 432x288 with 1 Axes>"
      ]
     },
     "metadata": {
      "needs_background": "light"
     },
     "output_type": "display_data"
    }
   ],
   "source": [
    "sns.boxplot(x='Page',y='Time',data=session_times);"
   ]
  },
  {
   "cell_type": "code",
   "execution_count": 22,
   "metadata": {
    "slideshow": {
     "slide_type": "fragment"
    }
   },
   "outputs": [
    {
     "data": {
      "image/png": "[encoded data removed]",
      "text/plain": [
       "<Figure size 432x288 with 1 Axes>"
      ]
     },
     "metadata": {
      "needs_background": "light"
     },
     "output_type": "display_data"
    }
   ],
   "source": [
    "sns.barplot(x='Page',y='Time',data=session_times);"
   ]
  },
  {
   "cell_type": "markdown",
   "metadata": {
    "slideshow": {
     "slide_type": "slide"
    }
   },
   "source": [
    "# Ex: Webpages and Sales, Define the Metric\n",
    "<br>\n",
    "\n",
    "\n",
    "- **Metric:** the measure we're interested in\n",
    " - Ex: We're interested in a difference of means (Page B - Page A)"
   ]
  },
  {
   "cell_type": "code",
   "execution_count": 23,
   "metadata": {
    "slideshow": {
     "slide_type": "fragment"
    }
   },
   "outputs": [
    {
     "name": "stdout",
     "output_type": "stream",
     "text": [
      "observed metric: 21.40\n"
     ]
    }
   ],
   "source": [
    "mean_a = session_times[session_times.Page == 'Page A'].Time.mean()\n",
    "mean_b = session_times[session_times.Page == 'Page B'].Time.mean()\n",
    "observed_metric = mean_b-mean_a\n",
    "print('observed metric: {:0.2f}'.format(observed_metric))"
   ]
  },
  {
   "cell_type": "markdown",
   "metadata": {
    "slideshow": {
     "slide_type": "fragment"
    }
   },
   "source": [
    "- Is this surprising? Should we reject the null?\n",
    " - Assuming that H0 is true, is this observation surprising?"
   ]
  },
  {
   "cell_type": "markdown",
   "metadata": {
    "slideshow": {
     "slide_type": "slide"
    }
   },
   "source": [
    "# Permutation Test\n",
    "<br>\n",
    "\n",
    "Recall the Central Limit Theorem:\n",
    "> For reasonably large samples, the distribution of sample mean $\\bar{x}$ is normal regardless of the distribution of $X$.\n",
    "\n",
    "- How do we generate additional samples of the difference in means? Resampling!\n",
    "- Need to repeatedly split the data into two groups and take the differince in means\n",
    "- One way to do this: combine, permute (reorder) and split"
   ]
  },
  {
   "cell_type": "markdown",
   "metadata": {
    "slideshow": {
     "slide_type": "slide"
    }
   },
   "source": [
    "# Permutation Test\n",
    "<br>\n",
    "\n",
    "1. combine groups together (assume H0 is true)\n",
    " - Ex: Ignore Page\n",
    "  \n",
    "2. permute (reorder) observations\n",
    " - Ex: Reorder Time\n",
    "\n",
    "3. create new groups (same sizes as original groups)\n",
    " - Ex: Get set1 of Times of size |PageA| and set2 of size |PageB|\n",
    "\n",
    "4. calculate metric\n",
    " - Ex: mean(set 2) - mean(set 1)\n",
    "\n",
    "5. repeat many times\n",
    "\n",
    "6. see where our original observation falls in the distribution of sample statistics"
   ]
  },
  {
   "cell_type": "markdown",
   "metadata": {
    "slideshow": {
     "slide_type": "slide"
    }
   },
   "source": [
    "# Websites and Sales, Permutation Test"
   ]
  },
  {
   "cell_type": "code",
   "execution_count": 24,
   "metadata": {
    "slideshow": {
     "slide_type": "fragment"
    }
   },
   "outputs": [
    {
     "name": "stdout",
     "output_type": "stream",
     "text": [
      "n_a=21 n_b=15 n=36\n"
     ]
    }
   ],
   "source": [
    "# 0. get group sizes\n",
    "n_a = sum(session_times.Page == 'Page A')\n",
    "n_b = sum(session_times.Page == 'Page B')\n",
    "n = n_a + n_b\n",
    "print(f'{n_a=} {n_b=} {n=}')"
   ]
  },
  {
   "cell_type": "code",
   "execution_count": 25,
   "metadata": {
    "slideshow": {
     "slide_type": "fragment"
    }
   },
   "outputs": [
    {
     "data": {
      "text/plain": [
       "0     12.6\n",
       "1    151.8\n",
       "Name: Time, dtype: float64"
      ]
     },
     "execution_count": 25,
     "metadata": {},
     "output_type": "execute_result"
    }
   ],
   "source": [
    "# 1. combine groups together (assume H0 is true)\n",
    "session_times.Time[:2]"
   ]
  },
  {
   "cell_type": "code",
   "execution_count": 26,
   "metadata": {
    "slideshow": {
     "slide_type": "fragment"
    }
   },
   "outputs": [
    {
     "data": {
      "text/plain": [
       "6    126.6\n",
       "8     79.2\n",
       "Name: Time, dtype: float64"
      ]
     },
     "execution_count": 26,
     "metadata": {},
     "output_type": "execute_result"
    }
   ],
   "source": [
    "# 2. permute observations\n",
    "permuted = session_times.Time.sample(frac=1,replace=False,random_state=123)\n",
    "permuted[:2]"
   ]
  },
  {
   "cell_type": "code",
   "execution_count": 27,
   "metadata": {
    "slideshow": {
     "slide_type": "fragment"
    }
   },
   "outputs": [
    {
     "name": "stdout",
     "output_type": "stream",
     "text": [
      "-17.41\n"
     ]
    }
   ],
   "source": [
    "# 3. create new groups\n",
    "rand_mean_a = permuted[:n_a].mean()\n",
    "rand_mean_b = permuted[n_a:].mean()\n",
    "\n",
    "# 4. calculate metric\n",
    "rand_mean_diff = (rand_mean_b - rand_mean_a)\n",
    "print('{:.2f}'.format(rand_mean_diff))"
   ]
  },
  {
   "cell_type": "markdown",
   "metadata": {
    "slideshow": {
     "slide_type": "slide"
    }
   },
   "source": [
    "# Websites and Sales, Permutation Test Continued"
   ]
  },
  {
   "cell_type": "code",
   "execution_count": 28,
   "metadata": {
    "slideshow": {
     "slide_type": "fragment"
    }
   },
   "outputs": [
    {
     "data": {
      "text/plain": [
       "[16.257142857142853,\n",
       " 16.874285714285705,\n",
       " 10.291428571428597,\n",
       " -31.811428571428564,\n",
       " 10.565714285714321]"
      ]
     },
     "execution_count": 28,
     "metadata": {},
     "output_type": "execute_result"
    }
   ],
   "source": [
    "# 5. repeat many times\n",
    "rand_mean_diffs = []\n",
    "iterations = 10_000\n",
    "\n",
    "for i in range(iterations):\n",
    "    permuted = session_times.Time.sample(frac=1,replace=False,random_state=i)\n",
    "    \n",
    "    rand_mean_a = permuted[:n_a].mean()\n",
    "    rand_mean_b = permuted[n_a:].mean()\n",
    "    \n",
    "    rand_mean_diffs.append(rand_mean_b - rand_mean_a)\n",
    "    \n",
    "rand_mean_diffs[:5]"
   ]
  },
  {
   "cell_type": "markdown",
   "metadata": {
    "slideshow": {
     "slide_type": "slide"
    }
   },
   "source": [
    "# Websites and Sales, Permutation Test Continued"
   ]
  },
  {
   "cell_type": "code",
   "execution_count": 29,
   "metadata": {
    "slideshow": {
     "slide_type": "fragment"
    }
   },
   "outputs": [
    {
     "data": {
      "image/png": "[encoded data removed]",
      "text/plain": [
       "<Figure size 864x576 with 1 Axes>"
      ]
     },
     "metadata": {
      "needs_background": "light"
     },
     "output_type": "display_data"
    }
   ],
   "source": [
    "# 6. see where our original observation falls\n",
    "fig,ax = plt.subplots(1,1,figsize=(12,8))\n",
    "ax = sns.histplot(x=rand_mean_diffs, stat='density')\n",
    "ax.set_xlabel('random mean differences');ax.set_ylabel('frequency');\n",
    "ax.axvline(observed_metric, color='r');"
   ]
  },
  {
   "cell_type": "markdown",
   "metadata": {
    "slideshow": {
     "slide_type": "fragment"
    }
   },
   "source": [
    "- Would be easier to interpret if this was a Standard Normal distribution..."
   ]
  },
  {
   "cell_type": "markdown",
   "metadata": {
    "slideshow": {
     "slide_type": "slide"
    }
   },
   "source": [
    "# Normalization: z-score\n",
    "\n",
    "Convert our distribution to an approximation of standard normal\n",
    "\n",
    "1. shift mean to 0\n",
    "2. set standard deviation of 1\n",
    "\n",
    "<center>$\\Large z = \\frac{x - \\bar{x}}{s}$</center>\n"
   ]
  },
  {
   "cell_type": "code",
   "execution_count": 30,
   "metadata": {
    "slideshow": {
     "slide_type": "fragment"
    }
   },
   "outputs": [],
   "source": [
    "xbar = np.mean(rand_mean_diffs)\n",
    "s = np.std(rand_mean_diffs)\n",
    "\n",
    "rand_zscores = (rand_mean_diffs - xbar) / s\n",
    " "
   ]
  },
  {
   "cell_type": "code",
   "execution_count": 31,
   "metadata": {
    "slideshow": {
     "slide_type": "fragment"
    }
   },
   "outputs": [],
   "source": [
    "observed_metric_zscore =  (observed_metric - xbar) / s"
   ]
  },
  {
   "cell_type": "markdown",
   "metadata": {
    "slideshow": {
     "slide_type": "slide"
    }
   },
   "source": [
    "# Websites and Sales, Permutation Test Continued"
   ]
  },
  {
   "cell_type": "code",
   "execution_count": 32,
   "metadata": {
    "slideshow": {
     "slide_type": "fragment"
    }
   },
   "outputs": [
    {
     "data": {
      "image/png": "[encoded data removed]",
      "text/plain": [
       "<Figure size 864x576 with 1 Axes>"
      ]
     },
     "metadata": {
      "needs_background": "light"
     },
     "output_type": "display_data"
    }
   ],
   "source": [
    "# 5. see where our original observation falls (normalized)\n",
    "fig,ax = plt.subplots(1,1,figsize=(12,8))\n",
    "ax = sns.histplot(rand_zscores, stat='density')\n",
    "ax.set_xlabel('random mean differences normed');ax.set_ylabel('frequency');\n",
    "ax.axvline(observed_metric_zscore,color='r');"
   ]
  },
  {
   "cell_type": "markdown",
   "metadata": {
    "slideshow": {
     "slide_type": "slide"
    }
   },
   "source": [
    "# Why Use Permutation Tests?\n",
    "<br>\n",
    "\n",
    "- data can be numeric or boolean (ex. temperature, conversion, etc)\n",
    "\n",
    "- sample sizes can be different\n",
    "\n",
    "- assumptions about normally distributed data are not needed"
   ]
  },
  {
   "cell_type": "markdown",
   "metadata": {
    "slideshow": {
     "slide_type": "slide"
    }
   },
   "source": [
    "# How sure are we?\n",
    "<br>\n",
    "\n",
    "- **p-value**\n",
    "\n",
    "> The probability of finding the observed, or more extreme, result when the null hypothesis ($H_0$) is true."
   ]
  },
  {
   "cell_type": "markdown",
   "metadata": {
    "slideshow": {
     "slide_type": "fragment"
    }
   },
   "source": [
    "- **does mean** : $P\\left(\\text{data} \\mid H_0 \\text{ is true}\\right)$\n",
    "\n"
   ]
  },
  {
   "cell_type": "markdown",
   "metadata": {
    "slideshow": {
     "slide_type": "fragment"
    }
   },
   "source": [
    "- **does NOT mean** : $P\\left(H_0 \\text{ is not true} \\mid \\text{data}\\right)$\n",
    "\n"
   ]
  },
  {
   "cell_type": "markdown",
   "metadata": {
    "slideshow": {
     "slide_type": "fragment"
    }
   },
   "source": [
    "- Our question about significance becomes:\n",
    "\n",
    "> \"How often did we see a value as or more extreme than our observed metric?\""
   ]
  },
  {
   "cell_type": "markdown",
   "metadata": {
    "slideshow": {
     "slide_type": "slide"
    }
   },
   "source": [
    "# Calculating p"
   ]
  },
  {
   "cell_type": "code",
   "execution_count": 33,
   "metadata": {
    "slideshow": {
     "slide_type": "fragment"
    }
   },
   "outputs": [],
   "source": [
    "# find absolute values greater than our observed_metric\n",
    "gt = np.abs(np.array(rand_mean_diffs)) >= np.abs(observed_metric)"
   ]
  },
  {
   "cell_type": "code",
   "execution_count": 34,
   "metadata": {
    "slideshow": {
     "slide_type": "fragment"
    }
   },
   "outputs": [
    {
     "data": {
      "text/plain": [
       "0.2655"
      ]
     },
     "execution_count": 34,
     "metadata": {},
     "output_type": "execute_result"
    }
   ],
   "source": [
    "# how many are greater?\n",
    "num_gt = gt.sum()\n",
    "\n",
    "# proportion of total that are as or more extreme\n",
    "p = num_gt / len(rand_mean_diffs)\n",
    "p"
   ]
  },
  {
   "cell_type": "markdown",
   "metadata": {
    "slideshow": {
     "slide_type": "slide"
    }
   },
   "source": [
    "# One-Tailed vs Two-Tailed Tests\n",
    "<br>\n",
    "<br>\n",
    "\n",
    "<div align=\"center\"><img src=\"http://www.fao.org/3/X6831E/X6831E120.gif\", width=\"800px\"></div>\n",
    "    \n",
    "https://towardsdatascience.com/one-tailed-or-two-tailed-test-that-is-the-question-1283387f631c?gi=9568e456cd13"
   ]
  },
  {
   "cell_type": "markdown",
   "metadata": {
    "slideshow": {
     "slide_type": "slide"
    }
   },
   "source": [
    "# Choosing One-Tailed vs Two-Tailed\n",
    "<br>\n",
    "\n",
    "- Do we have a strong reason for a one-tailed? One-Tailed\n",
    " - Ex: H_0 is \"difference is less than or equal to 0\"\n",
    " - Need a strong reason\n",
    "\n",
    "\n",
    "- Otherwise? Two-tailed\n",
    " - Ex: H_0 is \"there is no real difference between groups\"\n",
    " - More conservative\n",
    " - Usually a better choice"
   ]
  },
  {
   "cell_type": "markdown",
   "metadata": {
    "slideshow": {
     "slide_type": "slide"
    }
   },
   "source": [
    "# One-Tailed Test Example"
   ]
  },
  {
   "cell_type": "code",
   "execution_count": 35,
   "metadata": {
    "slideshow": {
     "slide_type": "fragment"
    }
   },
   "outputs": [
    {
     "data": {
      "text/plain": [
       "0.1328"
      ]
     },
     "execution_count": 35,
     "metadata": {},
     "output_type": "execute_result"
    }
   ],
   "source": [
    "# one-tailed test\n",
    "sum(np.array(rand_mean_diffs) >= observed_metric) / len(rand_mean_diffs)"
   ]
  },
  {
   "cell_type": "markdown",
   "metadata": {
    "slideshow": {
     "slide_type": "fragment"
    }
   },
   "source": [
    "Note that this is less than our Two-Tailed value!"
   ]
  },
  {
   "cell_type": "code",
   "execution_count": 36,
   "metadata": {
    "slideshow": {
     "slide_type": "fragment"
    }
   },
   "outputs": [
    {
     "data": {
      "text/plain": [
       "0.2655"
      ]
     },
     "execution_count": 36,
     "metadata": {},
     "output_type": "execute_result"
    }
   ],
   "source": [
    "# two-tailed test\n",
    "sum(np.abs(np.array(rand_mean_diffs)) >= np.abs(observed_metric)) / len(rand_mean_diffs)\n"
   ]
  },
  {
   "cell_type": "markdown",
   "metadata": {
    "slideshow": {
     "slide_type": "slide"
    }
   },
   "source": [
    "# Choosing $\\alpha$\n",
    "<br>\n",
    "\n",
    "- **alpha** ($\\alpha$): significance level\n",
    " - What we compare our p-value to\n",
    " - Best to choose this before calculating metrics\n",
    " - Probability of rejecting the null when it is true (Type I Error)\n",
    "\n",
    "- Common values:\n",
    " - .1 (Error 1 out of 10 times)\n",
    " - .05 (Error 1 out of 20 times)\n",
    " - .01 (Error 1 out of 100 times)\n",
    "\n",
    "\n",
    "- Should depend on how bad a Type I (False Positive) Error is"
   ]
  },
  {
   "cell_type": "markdown",
   "metadata": {
    "slideshow": {
     "slide_type": "slide"
    }
   },
   "source": [
    "# Another Example: Price vs Conversion\n",
    "<br>\n",
    "\n",
    "\n",
    "- Does Price A lead to higher conversions than Price B?\n",
    "- **Conversion:** Turning a visit into a sale\n",
    "\n",
    "- $H_0$: conversions for Price A ≤ conversions for Price B \n",
    " - Price A does not lead to more conversions\n",
    " \n",
    "- $H_1$: conversions for Price A > conversions for Price B \n",
    " - Price A leads to more conversions"
   ]
  },
  {
   "cell_type": "code",
   "execution_count": 37,
   "metadata": {
    "slideshow": {
     "slide_type": "fragment"
    }
   },
   "outputs": [
    {
     "data": {
      "text/html": [
       "<div>\n",
       "<style scoped>\n",
       "    .dataframe tbody tr th:only-of-type {\n",
       "        vertical-align: middle;\n",
       "    }\n",
       "\n",
       "    .dataframe tbody tr th {\n",
       "        vertical-align: top;\n",
       "    }\n",
       "\n",
       "    .dataframe thead th {\n",
       "        text-align: right;\n",
       "    }\n",
       "</style>\n",
       "<table border=\"1\" class=\"dataframe\">\n",
       "  <thead>\n",
       "    <tr style=\"text-align: right;\">\n",
       "      <th></th>\n",
       "      <th>Price A</th>\n",
       "      <th>Price B</th>\n",
       "    </tr>\n",
       "  </thead>\n",
       "  <tbody>\n",
       "    <tr>\n",
       "      <th>Conversion</th>\n",
       "      <td>200</td>\n",
       "      <td>182</td>\n",
       "    </tr>\n",
       "    <tr>\n",
       "      <th>No Conversion</th>\n",
       "      <td>23539</td>\n",
       "      <td>22406</td>\n",
       "    </tr>\n",
       "  </tbody>\n",
       "</table>\n",
       "</div>"
      ],
      "text/plain": [
       "               Price A  Price B\n",
       "Conversion         200      182\n",
       "No Conversion    23539    22406"
      ]
     },
     "execution_count": 37,
     "metadata": {},
     "output_type": "execute_result"
    }
   ],
   "source": [
    "# Counts of observations\n",
    "df = pd.DataFrame({'Price A':[200,23539],\n",
    "                   'Price B':[182,22406]},\n",
    "                   index=['Conversion','No Conversion'])\n",
    "df"
   ]
  },
  {
   "cell_type": "markdown",
   "metadata": {
    "slideshow": {
     "slide_type": "slide"
    }
   },
   "source": [
    "# Another Example: Price vs Conversion Continued\n",
    "\n",
    "- Metric of Interest?\n",
    " - difference in percent conversion\n",
    " "
   ]
  },
  {
   "cell_type": "code",
   "execution_count": 38,
   "metadata": {
    "slideshow": {
     "slide_type": "fragment"
    }
   },
   "outputs": [
    {
     "name": "stdout",
     "output_type": "stream",
     "text": [
      "Price A    0.84\n",
      "Price B    0.81\n",
      "dtype: float64\n"
     ]
    }
   ],
   "source": [
    "pct_conv = df.loc['Conversion'] / df.sum(axis=0) * 100\n",
    "with pd.option_context('precision',2):\n",
    "    print(pct_conv)"
   ]
  },
  {
   "cell_type": "code",
   "execution_count": 39,
   "metadata": {
    "slideshow": {
     "slide_type": "fragment"
    }
   },
   "outputs": [
    {
     "name": "stdout",
     "output_type": "stream",
     "text": [
      "0.037%\n"
     ]
    }
   ],
   "source": [
    "diff_pct_conv = pct_conv['Price A'] - pct_conv['Price B']\n",
    "print(f'{diff_pct_conv:.3f}%')"
   ]
  },
  {
   "cell_type": "markdown",
   "metadata": {
    "slideshow": {
     "slide_type": "slide"
    }
   },
   "source": [
    "# Another Example: Price vs Conversion Continued\n",
    "<br>\n",
    "\n",
    "\n",
    "- First: Choose our $\\alpha$: 0.05\n",
    "\n",
    "- Reminder of Permutation Test:\n",
    " 0. get group sizes\n",
    " 1. combine groups together\n",
    " 2. permute observations\n",
    " 3. create two new groups (same sizes as originals)\n",
    " 4. calculate metric\n",
    " 5. repeat many times\n",
    " 6. see where our original observation falls"
   ]
  },
  {
   "cell_type": "markdown",
   "metadata": {
    "slideshow": {
     "slide_type": "slide"
    }
   },
   "source": [
    "# Another Example: Price vs Conversion Continued\n",
    "<br>\n",
    "\n",
    "\n",
    "- What are our samples?\n",
    " - 1 = Conversion\n",
    " - 0 = No conversion\n",
    " \n",
    "- How many samples are there?"
   ]
  },
  {
   "cell_type": "code",
   "execution_count": 40,
   "metadata": {
    "slideshow": {
     "slide_type": "fragment"
    }
   },
   "outputs": [
    {
     "data": {
      "text/plain": [
       "46327"
      ]
     },
     "execution_count": 40,
     "metadata": {},
     "output_type": "execute_result"
    }
   ],
   "source": [
    "n = df.sum().sum()\n",
    "n"
   ]
  },
  {
   "cell_type": "markdown",
   "metadata": {
    "slideshow": {
     "slide_type": "slide"
    }
   },
   "source": [
    "# Another Example: Price vs Conversion Continued\n",
    "<br>\n",
    "\n",
    "\n",
    "- Turning counts into samples"
   ]
  },
  {
   "cell_type": "code",
   "execution_count": 41,
   "metadata": {
    "slideshow": {
     "slide_type": "fragment"
    }
   },
   "outputs": [
    {
     "data": {
      "text/plain": [
       "382"
      ]
     },
     "execution_count": 41,
     "metadata": {},
     "output_type": "execute_result"
    }
   ],
   "source": [
    "n_conversion = df.loc['Conversion'].sum()\n",
    "n_conversion\n"
   ]
  },
  {
   "cell_type": "code",
   "execution_count": 42,
   "metadata": {
    "slideshow": {
     "slide_type": "fragment"
    }
   },
   "outputs": [],
   "source": [
    "samples = np.zeros(n)\n",
    "samples[:n_conversion] = 1\n",
    "\n",
    "assert sum(samples) == n_conversion"
   ]
  },
  {
   "cell_type": "markdown",
   "metadata": {
    "slideshow": {
     "slide_type": "slide"
    }
   },
   "source": [
    "# Another Example: Price vs Conversion Continued\n",
    "<br>\n",
    "\n"
   ]
  },
  {
   "cell_type": "code",
   "execution_count": 43,
   "metadata": {
    "slideshow": {
     "slide_type": "fragment"
    }
   },
   "outputs": [
    {
     "name": "stdout",
     "output_type": "stream",
     "text": [
      "n_a=23739 n_b=22588 n=46327\n"
     ]
    }
   ],
   "source": [
    "n_a, n_b = df.sum(axis=0)\n",
    "print(f'{n_a=} {n_b=} {n=}')\n",
    "\n",
    "assert n_a + n_b == n"
   ]
  },
  {
   "cell_type": "code",
   "execution_count": 44,
   "metadata": {
    "slideshow": {
     "slide_type": "fragment"
    }
   },
   "outputs": [],
   "source": [
    "# tqdm gives us a progress bar\n",
    "# conda install -n eods-f20 ipywidgets\n",
    "from tqdm.notebook import tqdm \n"
   ]
  },
  {
   "cell_type": "code",
   "execution_count": 45,
   "metadata": {
    "slideshow": {
     "slide_type": "fragment"
    }
   },
   "outputs": [
    {
     "data": {
      "application/vnd.jupyter.widget-view+json": {
       "model_id": "faba80dfc9fe40529e2af6e3cbe54b71",
       "version_major": 2,
       "version_minor": 0
      },
      "text/plain": [
       "HBox(children=(FloatProgress(value=0.0, max=1000.0), HTML(value='')))"
      ]
     },
     "metadata": {},
     "output_type": "display_data"
    },
    {
     "name": "stdout",
     "output_type": "stream",
     "text": [
      "\n"
     ]
    }
   ],
   "source": [
    "np.random.seed(123)\n",
    "rand_conv_diffs = []\n",
    "for i in tqdm(range(1000)):\n",
    "    permutation = np.random.permutation(samples)\n",
    "    rand_conv_a = sum(permutation[:n_a]) / n_a\n",
    "    rand_conv_b = sum(permutation[n_a:]) / n_b\n",
    "    rand_conv_diffs.append(100 * (rand_conv_a - rand_conv_b))"
   ]
  },
  {
   "cell_type": "markdown",
   "metadata": {
    "slideshow": {
     "slide_type": "slide"
    }
   },
   "source": [
    "# Another Example: Price vs Conversion Continued\n",
    "<br>\n"
   ]
  },
  {
   "cell_type": "code",
   "execution_count": 46,
   "metadata": {
    "slideshow": {
     "slide_type": "fragment"
    }
   },
   "outputs": [
    {
     "data": {
      "image/png": "[encoded data removed]",
      "text/plain": [
       "<Figure size 864x576 with 1 Axes>"
      ]
     },
     "metadata": {
      "needs_background": "light"
     },
     "output_type": "display_data"
    }
   ],
   "source": [
    "fig,ax = plt.subplots(1,1,figsize=(12,8))\n",
    "ax = sns.histplot(x=rand_conv_diffs, stat='density')\n",
    "ax.axvline(diff_pct_conv,color='r');"
   ]
  },
  {
   "cell_type": "code",
   "execution_count": 47,
   "metadata": {
    "slideshow": {
     "slide_type": "fragment"
    }
   },
   "outputs": [
    {
     "data": {
      "text/plain": [
       "0.35"
      ]
     },
     "execution_count": 47,
     "metadata": {},
     "output_type": "execute_result"
    }
   ],
   "source": [
    "# calculate a two-tailed p-value\n",
    "sum(np.array(rand_conv_diffs) >= diff_pct_conv) / len(rand_conv_diffs)"
   ]
  },
  {
   "cell_type": "markdown",
   "metadata": {
    "slideshow": {
     "slide_type": "slide"
    }
   },
   "source": [
    "# Equation Based Proportion Test\n",
    "<br>\n"
   ]
  },
  {
   "cell_type": "code",
   "execution_count": 48,
   "metadata": {
    "slideshow": {
     "slide_type": "fragment"
    }
   },
   "outputs": [
    {
     "data": {
      "text/plain": [
       "0.6618881488312065"
      ]
     },
     "execution_count": 48,
     "metadata": {},
     "output_type": "execute_result"
    }
   ],
   "source": [
    "from statsmodels.stats.proportion import proportions_ztest\n",
    "\n",
    "z,p = proportions_ztest(df.loc['Conversion'].values,\n",
    "                        df.sum(),\n",
    "                        alternative='two-sided')\n",
    "p"
   ]
  },
  {
   "cell_type": "markdown",
   "metadata": {
    "slideshow": {
     "slide_type": "slide"
    }
   },
   "source": [
    "# Equation Based Hypothesis Test: t-Test \n",
    "<br>"
   ]
  },
  {
   "cell_type": "markdown",
   "metadata": {
    "slideshow": {
     "slide_type": "fragment"
    }
   },
   "source": [
    "- based on the Student-t distribution\n",
    "- more involved to describe\n",
    "- works for numeric data (can't use it for the last example)"
   ]
  },
  {
   "cell_type": "code",
   "execution_count": 49,
   "metadata": {
    "slideshow": {
     "slide_type": "fragment"
    }
   },
   "outputs": [
    {
     "data": {
      "text/plain": [
       "0.28152437245700607"
      ]
     },
     "execution_count": 49,
     "metadata": {},
     "output_type": "execute_result"
    }
   ],
   "source": [
    "# using our session_times example\n",
    "t = sp.stats.ttest_ind(session_times[session_times.Page == 'Page A'].Time.values,\n",
    "                       session_times[session_times.Page == 'Page B'].Time.values,\n",
    "                       equal_var=False)\n",
    "t.pvalue\n"
   ]
  },
  {
   "cell_type": "markdown",
   "metadata": {
    "slideshow": {
     "slide_type": "fragment"
    }
   },
   "source": [
    "- very close to the 0.27 value we found via permutation test"
   ]
  },
  {
   "cell_type": "markdown",
   "metadata": {
    "slideshow": {
     "slide_type": "slide"
    }
   },
   "source": [
    "# How Many Observations Do We Need?"
   ]
  },
  {
   "cell_type": "markdown",
   "metadata": {
    "slideshow": {
     "slide_type": "fragment"
    }
   },
   "source": [
    "**Common question:** How many observations do we need?\n",
    "\n",
    "\n",
    "These 4 things are related:\n",
    "- **effect size:** Min size of effect you want to detect\n",
    " - Ex: \"10% increase in clicks\"\n",
    "\n",
    "- **power**: Prob. of detecting given effect size with given sample size\n",
    " - $1-P(\\text{reject } H_0 \\mid H_1 \\text{ true})$\n",
    "\n",
    "- **alpha**: significance level at which to reject the null\n",
    " - $P(\\text{reject }H_0 \\mid H_0 \\text{ true})$\n",
    "\n",
    "- **number of observations:** usually what we're interested in finding\n",
    "\n",
    "\n",
    "Knowing 3 gets you the 4th!\n"
   ]
  },
  {
   "cell_type": "markdown",
   "metadata": {
    "slideshow": {
     "slide_type": "slide"
    }
   },
   "source": [
    "# How Many Observations Do We Need? Continued"
   ]
  },
  {
   "cell_type": "code",
   "execution_count": 50,
   "metadata": {
    "slideshow": {
     "slide_type": "fragment"
    }
   },
   "outputs": [],
   "source": [
    "from statsmodels.stats.power import tt_ind_solve_power"
   ]
  },
  {
   "cell_type": "code",
   "execution_count": 51,
   "metadata": {
    "slideshow": {
     "slide_type": "fragment"
    }
   },
   "outputs": [
    {
     "name": "stdout",
     "output_type": "stream",
     "text": [
      "num observations needed: 10397\n"
     ]
    }
   ],
   "source": [
    "# choose one to set as None\n",
    "x = tt_ind_solve_power(effect_size=.05, # diff between means divided by std dev                 \n",
    "                       power=.95,       # 1 - type 2 error\n",
    "                       alpha=.05,       # type 1 error\n",
    "                       nobs1=None,\n",
    "                       ratio=1          # n_a : n_b\n",
    "                  )\n",
    "print(f'num observations needed: {int(np.ceil(x))}')"
   ]
  },
  {
   "cell_type": "markdown",
   "metadata": {
    "slideshow": {
     "slide_type": "slide"
    }
   },
   "source": [
    "# How Many Observations Do We Need? Continued\n",
    "<br>\n",
    "\n",
    "What happens to our power if we can only get 1000 observations?"
   ]
  },
  {
   "cell_type": "code",
   "execution_count": 52,
   "metadata": {
    "slideshow": {
     "slide_type": "fragment"
    }
   },
   "outputs": [
    {
     "name": "stdout",
     "output_type": "stream",
     "text": [
      "power: 0.20\n"
     ]
    }
   ],
   "source": [
    "x = tt_ind_solve_power(effect_size=.05, # diff between means divided by std dev\n",
    "                       power=None,       # 1 - type 2 error\n",
    "                       alpha=.05,       # type 1 error\n",
    "                       nobs1=1000,\n",
    "                       ratio=1          # n_a : n_b\n",
    "                  )\n",
    "print(f'power: {x:0.2f}')"
   ]
  },
  {
   "cell_type": "markdown",
   "metadata": {
    "slideshow": {
     "slide_type": "slide"
    }
   },
   "source": [
    "# Issues with Multiple Testing\n",
    "<br>\n",
    "\n",
    "- p-hacking: keep trying comparisons till you find something that works\n",
    "\n",
    "\n",
    "- multiple tests: the more tests you run, the more likely a Type 1 Error\n",
    " - Bonferonni correction: $\\frac{\\alpha}{m}$"
   ]
  },
  {
   "cell_type": "markdown",
   "metadata": {
    "slideshow": {
     "slide_type": "slide"
    }
   },
   "source": [
    "# Statistically Significant?\n",
    "<br>\n",
    "\n",
    "[**The ASA Statement on p-Values: Context, Process, and Purpose**](https://www.tandfonline.com/doi/full/10.1080/00031305.2016.1154108) Wasserstein &amp; Lazar, 09 Jun 2016]\n",
    "\n",
    "\n",
    "- Don’t base your conclusions solely on whether an association or effect was found to be “statistically significant” (i.e., the p-value passed some arbitrary threshold such as p &lt; 0.05).\n",
    "\n",
    "\n",
    "- Don’t believe an association/effect **exists** just because it **was statistically significant**.\n",
    "\n",
    "\n",
    "- Don’t believe an association/effect **is absent** just because it **was not stat. significant**.\n",
    "\n",
    "\n",
    "- Don’t believe that your p-value:\n",
    "    1. gives the **probability that chance alone** produced the observed association/effect or\n",
    "    2. the probability that your **test hypothesis is true**.]\n",
    "\n",
    "\n",
    "- Don’t conclude anything about **scientific or practical importance** based on statistical significance (or lack thereof).\n"
   ]
  },
  {
   "cell_type": "markdown",
   "metadata": {
    "slideshow": {
     "slide_type": "slide"
    }
   },
   "source": [
    "# Statistically Significant?\n",
    "<br>\n",
    "\n",
    "\n",
    "[**Moving to a World Beyond “p &lt; 0.05”**](https://www.tandfonline.com/doi/full/10.1080/00031305.2019.1583913) Wasserstein, Schirm &amp; Lazar, 20 Mar 2019\n",
    "\n",
    "\n",
    "- Try to avoid “Statistically Significant”\n",
    "\n",
    "- “**A**ccept uncertainty. Be **t**houghtful, **o**pen, and **m**odest.” Remember “**ATOM**.”"
   ]
  },
  {
   "cell_type": "markdown",
   "metadata": {
    "slideshow": {
     "slide_type": "fragment"
    }
   },
   "source": [
    "- ATOM\n",
    " - **A:** Seek better measures, more sensitive designs, larger samples\n",
    "<br>\n",
    "<br>\n",
    " - **T:** Begin with clearly expressed objectives\n",
    " - **T:** Ask \"What are the practical implications?\"\n",
    "<br>\n",
    "<br>\n",
    " - **O:**: Be open/transparent in analysis and communication\n",
    "<br>\n",
    "<br>\n",
    " - **M:** Accept limititaions, assumptions, reproduction, recognizing differences in stakes"
   ]
  },
  {
   "cell_type": "markdown",
   "metadata": {
    "slideshow": {
     "slide_type": "slide"
    }
   },
   "source": [
    "# Comparing More Than 2 Groups\n",
    "\n",
    "- ANOVA\n",
    " - need more stats than we have time for\n",
    "        \n",
    "- Multi-Armed Bandit (MAB)\n",
    " - can compare many distributions\n",
    " - don't need to make assumptions about underlying distributions\n",
    " - can also be used for early stopping of experiment"
   ]
  },
  {
   "cell_type": "markdown",
   "metadata": {
    "slideshow": {
     "slide_type": "slide"
    }
   },
   "source": [
    "# Multi-Armed Bandit\n",
    "<br>\n",
    "\n",
    "<div align=\"center\"><img src=\"https://cdn.psychologytoday.com/sites/default/files/field_blog_entry_images/2019-07/casino-3491252_1920.jpg\" width=\"600px\"></div>\n",
    "\n",
    "\n",
    "**Question:** Which arm should we pull?"
   ]
  },
  {
   "cell_type": "markdown",
   "metadata": {
    "slideshow": {
     "slide_type": "slide"
    }
   },
   "source": [
    "# Greedy MAB\n",
    "\n",
    "**greedy:** do something simple that heads towards the goal\n",
    "\n",
    "\n",
    "1. pull arm with highest payout\n",
    "\n",
    "\n",
    "But what if there's a better choice, we just haven't seen it yet?"
   ]
  },
  {
   "cell_type": "markdown",
   "metadata": {
    "slideshow": {
     "slide_type": "slide"
    }
   },
   "source": [
    "# Exploration Vs Exploitation\n",
    "<br>\n",
    "\n",
    "- **Exploration:** There might be a better arm\n",
    " - keep choosing different arms randomly\n",
    "\n",
    "- **Exploitation:** We want to make use of the best\n",
    " - keep pulling the best arm"
   ]
  },
  {
   "cell_type": "markdown",
   "metadata": {
    "slideshow": {
     "slide_type": "slide"
    }
   },
   "source": [
    "# $\\epsilon$-Greedy MAB\n",
    "\n",
    "- choose a small epsilon ($\\epsilon$) between 0 and 1\n",
    "<br>"
   ]
  },
  {
   "cell_type": "markdown",
   "metadata": {
    "slideshow": {
     "slide_type": "fragment"
    }
   },
   "source": [
    "1. generate random number between 0 and 1\n",
    "2. if <ϵ<ϵ, choose arm randomly\n",
    "3. if ≥ϵ≥ϵ, choose best arm\n",
    "4. GOTO 1"
   ]
  },
  {
   "cell_type": "markdown",
   "metadata": {
    "slideshow": {
     "slide_type": "slide"
    }
   },
   "source": [
    "# MAB Example\n",
    "<br>\n",
    "\n",
    "- We have two ads\n",
    "- We don't know how often each will lead to a response\n",
    "- We need to decide which ad to add to each page request"
   ]
  },
  {
   "cell_type": "code",
   "execution_count": 53,
   "metadata": {
    "slideshow": {
     "slide_type": "fragment"
    }
   },
   "outputs": [],
   "source": [
    "# creating two ads (distributions) with unknown response rate\n",
    "np.random.seed(13)\n",
    "ad_A = sp.stats.bernoulli(p=np.random.rand())\n",
    "ad_B = sp.stats.bernoulli(p=np.random.rand())"
   ]
  },
  {
   "cell_type": "markdown",
   "metadata": {
    "slideshow": {
     "slide_type": "fragment"
    }
   },
   "source": [
    "- We'll use an $\\epsilon$-greedy MAB to decide which ad to show"
   ]
  },
  {
   "cell_type": "code",
   "execution_count": 54,
   "metadata": {
    "slideshow": {
     "slide_type": "fragment"
    }
   },
   "outputs": [],
   "source": [
    "# epsilon probability\n",
    "epsilon = 0.40"
   ]
  },
  {
   "cell_type": "markdown",
   "metadata": {
    "slideshow": {
     "slide_type": "slide"
    }
   },
   "source": [
    "# MAB Example Continued\n",
    "<br>"
   ]
  },
  {
   "cell_type": "markdown",
   "metadata": {
    "slideshow": {
     "slide_type": "fragment"
    }
   },
   "source": [
    "- Rounds 1 and 2\n",
    " - Pull each arm once"
   ]
  },
  {
   "cell_type": "code",
   "execution_count": 55,
   "metadata": {
    "slideshow": {
     "slide_type": "fragment"
    }
   },
   "outputs": [
    {
     "data": {
      "text/plain": [
       "([0], [1])"
      ]
     },
     "execution_count": 55,
     "metadata": {},
     "output_type": "execute_result"
    }
   ],
   "source": [
    "pulls_A = [ad_A.rvs()]\n",
    "\n",
    "pulls_B = [ad_B.rvs()]\n",
    "\n",
    "pulls_A,pulls_B"
   ]
  },
  {
   "cell_type": "markdown",
   "metadata": {
    "slideshow": {
     "slide_type": "slide"
    }
   },
   "source": [
    "# MAB Example Continued\n",
    "<br>"
   ]
  },
  {
   "cell_type": "markdown",
   "metadata": {
    "slideshow": {
     "slide_type": "fragment"
    }
   },
   "source": [
    "- Round 3\n",
    " - With probability $1-\\epsilon$, choose the best arm (B)"
   ]
  },
  {
   "cell_type": "code",
   "execution_count": 56,
   "metadata": {
    "slideshow": {
     "slide_type": "fragment"
    }
   },
   "outputs": [
    {
     "data": {
      "text/plain": [
       "True"
      ]
     },
     "execution_count": 56,
     "metadata": {},
     "output_type": "execute_result"
    }
   ],
   "source": [
    "be_greedy = np.random.rand() > epsilon\n",
    "be_greedy"
   ]
  },
  {
   "cell_type": "code",
   "execution_count": 57,
   "metadata": {
    "slideshow": {
     "slide_type": "fragment"
    }
   },
   "outputs": [
    {
     "data": {
      "text/plain": [
       "([0], [1, 0])"
      ]
     },
     "execution_count": 57,
     "metadata": {},
     "output_type": "execute_result"
    }
   ],
   "source": [
    "pulls_B.append(ad_B.rvs())\n",
    "\n",
    "pulls_A,pulls_B"
   ]
  },
  {
   "cell_type": "markdown",
   "metadata": {
    "slideshow": {
     "slide_type": "slide"
    }
   },
   "source": [
    "# MAB Example Continued\n",
    "<br>"
   ]
  },
  {
   "cell_type": "code",
   "execution_count": 58,
   "metadata": {
    "slideshow": {
     "slide_type": "fragment"
    }
   },
   "outputs": [],
   "source": [
    "def mab(ad_A,ad_B,pulls_A,pulls_B,epsilon):\n",
    "    be_greedy = np.random.rand() > epsilon\n",
    "    if not be_greedy: # randomly choose\n",
    "        if np.random.rand() < 0.5:\n",
    "            pulls_A.append(ad_A.rvs())\n",
    "            choice = 'A'\n",
    "        else:\n",
    "            pulls_B.append(ad_B.rvs())\n",
    "            choice = 'B'\n",
    "    else: # be greedy\n",
    "        resp_A = sum(pulls_A) / len(pulls_A)\n",
    "        resp_B = sum(pulls_B) / len(pulls_B)\n",
    "        if resp_A > resp_B:\n",
    "            pulls_A.append(ad_A.rvs())\n",
    "            choice = 'A'\n",
    "        else:\n",
    "            pulls_B.append(ad_B.rvs())\n",
    "            choice = 'B'\n",
    "    return pulls_A, pulls_B, be_greedy, choice"
   ]
  },
  {
   "cell_type": "markdown",
   "metadata": {
    "slideshow": {
     "slide_type": "slide"
    }
   },
   "source": [
    "# MAB Example Continued\n",
    "<br>"
   ]
  },
  {
   "cell_type": "markdown",
   "metadata": {
    "slideshow": {
     "slide_type": "fragment"
    }
   },
   "source": [
    "- Round 4"
   ]
  },
  {
   "cell_type": "code",
   "execution_count": 59,
   "metadata": {
    "slideshow": {
     "slide_type": "fragment"
    }
   },
   "outputs": [
    {
     "name": "stdout",
     "output_type": "stream",
     "text": [
      "True  B => 0.00:0.67 [0]                 , [1, 0, 1]           \n"
     ]
    }
   ],
   "source": [
    "pulls_A, pulls_B, be_greedy, choice = mab(ad_A,\n",
    "                                          ad_B,\n",
    "                                          pulls_A,\n",
    "                                          pulls_B,\n",
    "                                          epsilon)\n",
    "print(f'{str(be_greedy):5s} {choice} => '+\n",
    "          f'{np.mean(pulls_A):0.2f}:{np.mean(pulls_B):0.2f} {str(pulls_A):20s}, {str(pulls_B):20s}')"
   ]
  },
  {
   "cell_type": "markdown",
   "metadata": {
    "slideshow": {
     "slide_type": "slide"
    }
   },
   "source": [
    "# MAB Example Continued\n",
    "<br>"
   ]
  },
  {
   "cell_type": "code",
   "execution_count": 60,
   "metadata": {
    "slideshow": {
     "slide_type": "fragment"
    }
   },
   "outputs": [
    {
     "name": "stdout",
     "output_type": "stream",
     "text": [
      "True  B => 0.00:0.50 [0]                 , [1, 0, 1, 0]        \n",
      "False A => 0.50:0.50 [0, 1]              , [1, 0, 1, 0]        \n",
      "True  B => 0.50:0.40 [0, 1]              , [1, 0, 1, 0, 0]     \n",
      "True  A => 0.67:0.40 [0, 1, 1]           , [1, 0, 1, 0, 0]     \n",
      "False A => 0.75:0.40 [0, 1, 1, 1]        , [1, 0, 1, 0, 0]     \n",
      "True  A => 0.80:0.40 [0, 1, 1, 1, 1]     , [1, 0, 1, 0, 0]     \n",
      "False B => 0.80:0.33 [0, 1, 1, 1, 1]     , [1, 0, 1, 0, 0, 0]  \n",
      "False B => 0.80:0.43 [0, 1, 1, 1, 1]     , [1, 0, 1, 0, 0, 0, 1]\n",
      "False B => 0.80:0.50 [0, 1, 1, 1, 1]     , [1, 0, 1, 0, 0, 0, 1, 1]\n",
      "False B => 0.80:0.44 [0, 1, 1, 1, 1]     , [1, 0, 1, 0, 0, 0, 1, 1, 0]\n"
     ]
    }
   ],
   "source": [
    "for i in range(10):\n",
    "    pulls_A, pulls_B, be_greedy, choice = mab(ad_A,ad_B,pulls_A,pulls_B,epsilon)\n",
    "    print(f'{str(be_greedy):5s} {choice} => '+\n",
    "          f'{np.mean(pulls_A):0.2f}:{np.mean(pulls_B):0.2f} {str(pulls_A):20s}, {str(pulls_B):20s}')"
   ]
  },
  {
   "cell_type": "markdown",
   "metadata": {
    "slideshow": {
     "slide_type": "slide"
    }
   },
   "source": [
    "# MAB Example Continued\n",
    "<br>"
   ]
  },
  {
   "cell_type": "markdown",
   "metadata": {
    "slideshow": {
     "slide_type": "fragment"
    }
   },
   "source": [
    "- Which arm seems best?"
   ]
  },
  {
   "cell_type": "code",
   "execution_count": 61,
   "metadata": {
    "slideshow": {
     "slide_type": "fragment"
    }
   },
   "outputs": [
    {
     "name": "stdout",
     "output_type": "stream",
     "text": [
      "conversion rates: A: 0.80 B: 0.44\n"
     ]
    }
   ],
   "source": [
    "print(f'conversion rates: A: {np.mean(pulls_A):0.2f} B: {np.mean(pulls_B):0.2f}')"
   ]
  },
  {
   "cell_type": "markdown",
   "metadata": {
    "slideshow": {
     "slide_type": "fragment"
    }
   },
   "source": [
    "- Did we pick the best one?"
   ]
  },
  {
   "cell_type": "code",
   "execution_count": 62,
   "metadata": {
    "slideshow": {
     "slide_type": "fragment"
    }
   },
   "outputs": [
    {
     "name": "stdout",
     "output_type": "stream",
     "text": [
      "ground truth: A: 0.78 B: 0.24\n"
     ]
    }
   ],
   "source": [
    "print(f'ground truth: A: {ad_A.pmf(1):0.2f} B: {ad_B.pmf(1):0.2f}')"
   ]
  },
  {
   "cell_type": "markdown",
   "metadata": {
    "slideshow": {
     "slide_type": "slide"
    }
   },
   "source": [
    "# MAB Variations\n",
    "<br>\n",
    "\n",
    "\n",
    "- Thompson's Sampling: uses Baysian approach\n",
    "\n",
    "- UCB1: maximize expected reward using Upper Confidence Bounds\n",
    "\n",
    "- UCBC: Upper Confidence Bound with Clusters\n",
    "\n",
    "- ...\n"
   ]
  },
  {
   "cell_type": "markdown",
   "metadata": {
    "slideshow": {
     "slide_type": "slide"
    }
   },
   "source": [
    "<br>\n",
    "<br>\n",
    "\n",
    "# <center>Questions?</center>\n",
    "<br>\n",
    "<br>"
   ]
  },
  {
   "cell_type": "markdown",
   "metadata": {
    "slideshow": {
     "slide_type": "slide"
    }
   },
   "source": [
    "# Python Argument Unpacking"
   ]
  },
  {
   "cell_type": "code",
   "execution_count": 63,
   "metadata": {
    "slideshow": {
     "slide_type": "fragment"
    }
   },
   "outputs": [
    {
     "name": "stdout",
     "output_type": "stream",
     "text": [
      "<class 'tuple'>\n"
     ]
    },
    {
     "data": {
      "image/png": "[encoded data removed]",
      "text/plain": [
       "<Figure size 432x288 with 1 Axes>"
      ]
     },
     "metadata": {
      "needs_background": "light"
     },
     "output_type": "display_data"
    }
   ],
   "source": [
    "ax = sns.histplot(np.random.normal(size=100));\n",
    "plt.tight_layout()\n",
    "\n",
    "# to get y-axis min and max, use ax.get_ylim()\n",
    "ymin,ymax = ax.get_ylim()\n",
    "ax.set_ylim(ymin,ymax)\n",
    "\n",
    "# to add a vertical line use vlines, need ymin, ymax\n",
    "ax.vlines(1,ymin,ymax,color='red');\n",
    "\n",
    "# ax.get_ylim() returns a tuple, so can't pass directly to vlines\n",
    "print(type(ax.get_ylim()))\n",
    "\n",
    "# can unpack the arguments with * (asterisk)\n",
    "ax.vlines(-1,*ax.get_ylim(),color='orange')\n",
    "\n",
    "# or, for vertical lines can use axvline\n",
    "ax.axvline(-2,color='black');"
   ]
  }
 ],
 "metadata": {
  "celltoolbar": "Slideshow",
  "kernelspec": {
   "display_name": "eods-f20",
   "language": "python",
   "name": "eods-f20"
  },
  "language_info": {
   "codemirror_mode": {
    "name": "ipython",
    "version": 3
   },
   "file_extension": ".py",
   "mimetype": "text/x-python",
   "name": "python",
   "nbconvert_exporter": "python",
   "pygments_lexer": "ipython3",
   "version": "3.8.5"
  }
 },
 "nbformat": 4,
 "nbformat_minor": 4
}
